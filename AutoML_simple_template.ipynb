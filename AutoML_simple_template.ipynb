{
 "cells": [
  {
   "cell_type": "markdown",
   "metadata": {},
   "source": [
    "Template for creating person AutoML"
   ]
  },
  {
   "cell_type": "code",
   "execution_count": 1,
   "metadata": {},
   "outputs": [],
   "source": [
    "import numpy as np\n",
    "import pandas as pd\n",
    "\n",
    "from sklearn.model_selection import train_test_split\n",
    "from sklearn.impute import SimpleImputer\n",
    "from sklearn.compose import ColumnTransformer, make_column_selector\n",
    "from sklearn.preprocessing import StandardScaler, MinMaxScaler, RobustScaler, OneHotEncoder\n",
    "from sklearn.feature_selection import SelectKBest, f_classif\n",
    "from sklearn.model_selection import RandomizedSearchCV\n",
    "from sklearn.pipeline import Pipeline\n",
    "from sklearn.linear_model import LogisticRegression\n",
    "from sklearn.ensemble import RandomForestClassifier, GradientBoostingClassifier\n",
    "from sklearn.neighbors import KNeighborsClassifier\n",
    "from sklearn.tree import DecisionTreeClassifier\n",
    "from sklearn.svm import LinearSVC,SVC\n",
    "from sklearn.metrics import balanced_accuracy_score\n",
    "\n",
    "from sklearn.datasets import load_breast_cancer"
   ]
  },
  {
   "cell_type": "markdown",
   "metadata": {},
   "source": [
    "Build fit method"
   ]
  },
  {
   "cell_type": "code",
   "execution_count": 2,
   "metadata": {},
   "outputs": [],
   "source": [
    "class MyAutoMLClassifier:\n",
    "    \n",
    "    def __init__(self, scoring_function = 'balanced_accuracy', n_iter = 50):\n",
    "        self.scoring_function = scoring_function\n",
    "        self.n_iter = n_iter\n",
    "  \n",
    "    def fit(self,X,y):\n",
    "        X_train = X\n",
    "        y_train = y\n",
    "\n",
    "        categorical_values = []\n",
    "\n",
    "        cat_subset = X_train.select_dtypes(include = ['object','category','bool'])\n",
    "\n",
    "        for i in range(cat_subset.shape[1]):\n",
    "            categorical_values.append(list(cat_subset.iloc[:,i].dropna().unique()))\n",
    "\n",
    "        num_pipeline = Pipeline([\n",
    "            ('cleaner',SimpleImputer()),\n",
    "            ('scaler',StandardScaler())\n",
    "        ])\n",
    "\n",
    "        cat_pipeline = Pipeline([\n",
    "            ('cleaner',SimpleImputer(strategy = 'most_frequent')),\n",
    "            ('encoder',OneHotEncoder(sparse = False, categories=categorical_values))\n",
    "        ])\n",
    "\n",
    "\n",
    "        preprocessor = ColumnTransformer([\n",
    "            ('numerical', num_pipeline, make_column_selector(dtype_exclude=['object','category','bool'])),\n",
    "            ('categorical', cat_pipeline, make_column_selector(dtype_include=['object','category','bool']))\n",
    "        ])\n",
    "\n",
    "        model_pipeline_steps = []\n",
    "        model_pipeline_steps.append(('preprocessor',preprocessor))\n",
    "        model_pipeline_steps.append(('feature_selector',SelectKBest(f_classif,k='all')))\n",
    "        model_pipeline_steps.append(('estimator',LogisticRegression()))\n",
    "        model_pipeline = Pipeline(model_pipeline_steps)\n",
    "\n",
    "        total_features = preprocessor.fit_transform(X_train).shape[1]\n",
    "\n",
    "        optimization_grid = []\n",
    "\n",
    "        # Logistic regression\n",
    "        optimization_grid.append({\n",
    "            'preprocessor__numerical__scaler':[RobustScaler(),StandardScaler(),MinMaxScaler()],\n",
    "            'preprocessor__numerical__cleaner__strategy':['mean','median'],\n",
    "            'feature_selector__k': list(np.arange(1,total_features,5)) + ['all'],\n",
    "            'estimator':[LogisticRegression()]\n",
    "        })\n",
    "\n",
    "        # K-nearest neighbors\n",
    "        optimization_grid.append({\n",
    "            'preprocessor__numerical__scaler':[RobustScaler(),StandardScaler(),MinMaxScaler()],\n",
    "            'preprocessor__numerical__cleaner__strategy':['mean','median'],\n",
    "            'feature_selector__k': list(np.arange(1,total_features,5)) + ['all'],\n",
    "            'estimator':[KNeighborsClassifier()],\n",
    "            'estimator__weights':['uniform','distance'],\n",
    "            'estimator__n_neighbors':np.arange(1,20,1)\n",
    "        })\n",
    "\n",
    "        # Random Forest\n",
    "        optimization_grid.append({\n",
    "            'preprocessor__numerical__scaler':[None],\n",
    "            'preprocessor__numerical__cleaner__strategy':['mean','median'],\n",
    "            'feature_selector__k': list(np.arange(1,total_features,5)) + ['all'],\n",
    "            'estimator':[RandomForestClassifier(random_state=0)],\n",
    "            'estimator__n_estimators':np.arange(5,500,10),\n",
    "            'estimator__criterion':['gini','entropy']\n",
    "        })\n",
    "\n",
    "\n",
    "        # Gradient boosting\n",
    "        optimization_grid.append({\n",
    "            'preprocessor__numerical__scaler':[None],\n",
    "            'preprocessor__numerical__cleaner__strategy':['mean','median'],\n",
    "            'feature_selector__k': list(np.arange(1,total_features,5)) + ['all'],\n",
    "            'estimator':[GradientBoostingClassifier(random_state=0)],\n",
    "            'estimator__n_estimators':np.arange(5,500,10),\n",
    "            'estimator__learning_rate':np.linspace(0.1,0.9,20),\n",
    "        })\n",
    "\n",
    "\n",
    "\n",
    "        # Decision tree\n",
    "        optimization_grid.append({\n",
    "            'preprocessor__numerical__scaler':[None],\n",
    "            'preprocessor__numerical__cleaner__strategy':['mean','median'],\n",
    "            'feature_selector__k': list(np.arange(1,total_features,5)) + ['all'],\n",
    "            'estimator':[DecisionTreeClassifier(random_state=0)],\n",
    "            'estimator__criterion':['gini','entropy']\n",
    "        })\n",
    "\n",
    "        # Linear SVM\n",
    "        optimization_grid.append({\n",
    "            'preprocessor__numerical__scaler':[RobustScaler(),StandardScaler(),MinMaxScaler()],\n",
    "            'preprocessor__numerical__cleaner__strategy':['mean','median'],\n",
    "            'feature_selector__k': list(np.arange(1,total_features,5)) + ['all'],\n",
    "            'estimator':[LinearSVC(random_state = 0)],\n",
    "            'estimator__C': np.arange(0.1,1,0.1),\n",
    "\n",
    "        })\n",
    "\n",
    "        search = RandomizedSearchCV(\n",
    "          model_pipeline,\n",
    "          optimization_grid,\n",
    "          n_iter=self.n_iter,\n",
    "          scoring = self.scoring_function, \n",
    "          n_jobs = -1, \n",
    "          random_state = 0, \n",
    "          verbose = 3,\n",
    "          cv = 5\n",
    "        )\n",
    "\n",
    "        search.fit(X_train, y_train)\n",
    "        self.best_estimator_ = search.best_estimator_\n",
    "        self.best_pipeline = search.best_params_\n",
    "    \n",
    "\n",
    "  \n",
    "    def predict(self,X,y = None):\n",
    "        return self.best_estimator_.predict(X)\n",
    "\n",
    "    def predict_proba(self,X,y = None):\n",
    "        return self.best_estimator_.predict_proba(X)"
   ]
  },
  {
   "cell_type": "code",
   "execution_count": 4,
   "metadata": {},
   "outputs": [
    {
     "name": "stdout",
     "output_type": "stream",
     "text": [
      "Fitting 5 folds for each of 50 candidates, totalling 250 fits\n"
     ]
    },
    {
     "name": "stderr",
     "output_type": "stream",
     "text": [
      "[Parallel(n_jobs=-1)]: Using backend LokyBackend with 4 concurrent workers.\n",
      "[Parallel(n_jobs=-1)]: Done  24 tasks      | elapsed:    6.1s\n",
      "[Parallel(n_jobs=-1)]: Done 120 tasks      | elapsed:   30.6s\n",
      "[Parallel(n_jobs=-1)]: Done 250 out of 250 | elapsed:  1.1min finished\n"
     ]
    }
   ],
   "source": [
    "\n",
    "d = load_breast_cancer()\n",
    "y = d['target']\n",
    "X = pd.DataFrame(d['data'],columns = d['feature_names'])\n",
    "\n",
    "X_train, X_test, y_train, y_test = train_test_split(X, y, test_size=0.33, random_state=42)\n",
    "\n",
    "model = MyAutoMLClassifier()\n",
    "model.fit(X_train,y_train)"
   ]
  },
  {
   "cell_type": "code",
   "execution_count": 5,
   "metadata": {},
   "outputs": [
    {
     "data": {
      "text/plain": [
       "0.9428271863821389"
      ]
     },
     "execution_count": 5,
     "metadata": {},
     "output_type": "execute_result"
    }
   ],
   "source": [
    "balanced_accuracy_score(y_test, model.predict(X_test))"
   ]
  },
  {
   "cell_type": "code",
   "execution_count": 6,
   "metadata": {},
   "outputs": [
    {
     "data": {
      "text/plain": [
       "{'preprocessor__numerical__scaler': None,\n",
       " 'preprocessor__numerical__cleaner__strategy': 'mean',\n",
       " 'feature_selector__k': 21,\n",
       " 'estimator__n_estimators': 235,\n",
       " 'estimator__learning_rate': 0.5210526315789473,\n",
       " 'estimator': GradientBoostingClassifier(learning_rate=0.5210526315789473, n_estimators=235,\n",
       "                            random_state=0)}"
      ]
     },
     "execution_count": 6,
     "metadata": {},
     "output_type": "execute_result"
    }
   ],
   "source": [
    "model.best_pipeline"
   ]
  },
  {
   "cell_type": "code",
   "execution_count": null,
   "metadata": {},
   "outputs": [],
   "source": []
  },
  {
   "cell_type": "code",
   "execution_count": null,
   "metadata": {},
   "outputs": [],
   "source": []
  },
  {
   "cell_type": "code",
   "execution_count": null,
   "metadata": {},
   "outputs": [],
   "source": []
  }
 ],
 "metadata": {
  "kernelspec": {
   "display_name": "Python 3",
   "language": "python",
   "name": "python3"
  },
  "language_info": {
   "codemirror_mode": {
    "name": "ipython",
    "version": 3
   },
   "file_extension": ".py",
   "mimetype": "text/x-python",
   "name": "python",
   "nbconvert_exporter": "python",
   "pygments_lexer": "ipython3",
   "version": "3.8.5"
  }
 },
 "nbformat": 4,
 "nbformat_minor": 4
}
