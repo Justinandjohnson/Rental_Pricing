{
 "metadata": {
  "language_info": {
   "codemirror_mode": {
    "name": "ipython",
    "version": 3
   },
   "file_extension": ".py",
   "mimetype": "text/x-python",
   "name": "python",
   "nbconvert_exporter": "python",
   "pygments_lexer": "ipython3",
   "version": "3.8.5-final"
  },
  "orig_nbformat": 2,
  "kernelspec": {
   "name": "python3",
   "display_name": "Python 3.8.5 64-bit ('dl': conda)",
   "metadata": {
    "interpreter": {
     "hash": "55fed6f79e51eda0a9c54a0c0fc683d91e072f564472f32a0f35b2737b36592d"
    }
   }
  }
 },
 "nbformat": 4,
 "nbformat_minor": 2,
 "cells": [
  {
   "source": [
    "### After several days of getting my scraper to a reasonable level, now it's time to build a simple model that describes the data \n",
    "\n",
    "### Current\n",
    "since I lack time-series data for each location this will simply use know information as well as maybe some exogeneous information to predict prices.\n",
    "\n",
    "- determine what predictors are releavent on a national level to estimate prices\n",
    "- determine what predictors are releavent on a local level to restimate prices\n",
    "\n",
    "### FUTURE\n",
    "forecast prices\n",
    "\n",
    "- locate additional sources of information to be used for backtests\n",
    "- seasonality model?\n",
    "\n"
   ],
   "cell_type": "markdown",
   "metadata": {}
  },
  {
   "cell_type": "code",
   "execution_count": 1,
   "metadata": {},
   "outputs": [],
   "source": [
    "### import the relevant libraries ###\n",
    "import pandas as pd\n",
    "import numpy as np\n",
    "from datetime import datetime as dt\n",
    "pd.options.display.float_format = \"{:.0f}\".format\n",
    "\n",
    "import re\n",
    "\n",
    "#### sklearn ###\n",
    "from sklearn.preprocessing import StandardScaler\n",
    "retail_scaler = StandardScaler()\n",
    "\n",
    "# for making a Custom Scaler\n",
    "from sklearn.base import BaseEstimator, TransformerMixin\n",
    "\n",
    "# import the LogReg model from sklearn\n",
    "from sklearn.linear_model import LogisticRegression\n",
    "\n",
    "# import the 'metrics' module, which includes important metrics we may want to use\n",
    "from sklearn import metrics"
   ]
  },
  {
   "cell_type": "code",
   "execution_count": 2,
   "metadata": {},
   "outputs": [],
   "source": [
    "# create the Custom Scaler class\n",
    "\n",
    "class CustomScaler(BaseEstimator,TransformerMixin): \n",
    "    \n",
    "    # init or what information we need to declare a CustomScaler object\n",
    "    # and what is calculated/declared as we do\n",
    "    \n",
    "    def __init__(self,columns,copy=True,with_mean=True,with_std=True):\n",
    "        \n",
    "        # scaler is nothing but a Standard Scaler object\n",
    "        self.scaler = StandardScaler(copy,with_mean,with_std)\n",
    "        # with some columns 'twist'\n",
    "        self.columns = columns\n",
    "        self.mean_ = None\n",
    "        self.var_ = None\n",
    "        \n",
    "    \n",
    "    # the fit method, which, again based on StandardScale\n",
    "    \n",
    "    def fit(self, X, y=None):\n",
    "        self.scaler.fit(X[self.columns], y)\n",
    "        self.mean_ = np.mean(X[self.columns])\n",
    "        self.var_ = np.var(X[self.columns])\n",
    "        return self\n",
    "    \n",
    "    # the transform method which does the actual scaling\n",
    "\n",
    "    def transform(self, X, y=None, copy=None):\n",
    "        \n",
    "        # record the initial order of the columns\n",
    "        init_col_order = X.columns\n",
    "        \n",
    "        # scale all features that you chose when creating the instance of the class\n",
    "        X_scaled = pd.DataFrame(self.scaler.transform(X[self.columns]), columns=self.columns)\n",
    "        \n",
    "        # declare a variable containing all information that was not scaled\n",
    "        X_not_scaled = X.loc[:,~X.columns.isin(self.columns)]\n",
    "        \n",
    "        # return a data frame which contains all scaled features and all 'not scaled' features\n",
    "        # use the original order (that you recorded in the beginning)\n",
    "        return pd.concat([X_not_scaled, X_scaled], axis=1)[init_col_order]"
   ]
  },
  {
   "cell_type": "code",
   "execution_count": 3,
   "metadata": {},
   "outputs": [
    {
     "output_type": "execute_result",
     "data": {
      "text/plain": [
       "(34959, 15)"
      ]
     },
     "metadata": {},
     "execution_count": 3
    }
   ],
   "source": [
    "unfiltered_data = pd.read_csv(\"DATA/scrape_files/Master.csv\")\n",
    "unfiltered_data.shape\n"
   ]
  },
  {
   "cell_type": "code",
   "execution_count": 4,
   "metadata": {},
   "outputs": [
    {
     "output_type": "execute_result",
     "data": {
      "text/plain": [
       "Unnamed: 0     2147\n",
       "name           2147\n",
       "address        2147\n",
       "unit           2147\n",
       "sqft           2147\n",
       "bed            2147\n",
       "bath           2147\n",
       "price          2147\n",
       "city           2147\n",
       "state          2147\n",
       "zipcode        2147\n",
       "description    2147\n",
       "details        2147\n",
       "url            2147\n",
       "date           2147\n",
       "dtype: int64"
      ]
     },
     "metadata": {},
     "execution_count": 4
    }
   ],
   "source": [
    "unfiltered_data[unfiltered_data.sqft.str.contains(\"-\") | unfiltered_data.sqft.str.contains(\"NaN\")].count()\n"
   ]
  },
  {
   "cell_type": "code",
   "execution_count": 5,
   "metadata": {},
   "outputs": [
    {
     "output_type": "execute_result",
     "data": {
      "text/plain": [
       "Unnamed: 0     32812\n",
       "name           32812\n",
       "address        32812\n",
       "unit           32070\n",
       "sqft           32066\n",
       "bed            32812\n",
       "bath           32812\n",
       "price          32812\n",
       "city           32812\n",
       "state          32812\n",
       "zipcode        32812\n",
       "description    32812\n",
       "details        32812\n",
       "url            32812\n",
       "date           32812\n",
       "dtype: int64"
      ]
     },
     "metadata": {},
     "execution_count": 5
    }
   ],
   "source": [
    "unfiltered_data[~unfiltered_data.sqft.str.contains(\"-\", na=False)].count()"
   ]
  },
  {
   "cell_type": "code",
   "execution_count": 6,
   "metadata": {},
   "outputs": [],
   "source": [
    "# remove the 2k+ appartment summary listsings, which (I believe moves the data where the column was shifted)\n",
    "uf_data = unfiltered_data[~unfiltered_data.sqft.str.contains(\"-\", na=False)]\n",
    "uf_data = uf_data[~uf_data.unit.str.contains(\"Bed\", na=False)]\n",
    "uf_data = uf_data[uf_data.unit != 'home'] # get rid of homes/condos for rent (for now)"
   ]
  },
  {
   "cell_type": "code",
   "execution_count": 7,
   "metadata": {},
   "outputs": [],
   "source": [
    "uf_data.sqft.replace(regex=True, to_replace=r'\\D', value='', inplace=True)\n",
    "uf_data.sqft.fillna(0, inplace=True)\n",
    "\n",
    "uf_data.unit.replace(regex=True, to_replace=r'\\D', value='', inplace=True)\n",
    "uf_data.bed.replace(regex=True, to_replace=r'\\D', value='', inplace=True)\n",
    "uf_data.bath.replace(regex=True, to_replace=r'\\D', value='', inplace=True)\n",
    "uf_data.price.replace(regex=True, to_replace=r'\\D', value='', inplace=True)"
   ]
  },
  {
   "cell_type": "code",
   "execution_count": 8,
   "metadata": {},
   "outputs": [],
   "source": [
    "uf_data.price.replace(regex=True, to_replace=r'\\D', value='', inplace=True)"
   ]
  },
  {
   "cell_type": "code",
   "execution_count": 9,
   "metadata": {},
   "outputs": [],
   "source": [
    "def detail_string_to_dict(detail):\n",
    "    \"\"\" something \"\"\"\n",
    "    my_dict = {}\n",
    "    for d in detail.split(','):\n",
    "        if \":\" in d:\n",
    "            it = iter([(d.split(\":\")[0]).strip(), (d.split(\":\")[1]).strip()])\n",
    "            mydict = dict(zip(it, it))\n",
    "            my_dict.update(mydict)\n",
    "\n",
    "        else:\n",
    "            l = (d.strip()+\":True\").split(\":\")\n",
    "            it = iter(l)\n",
    "            myd = dict(zip(it, it))\n",
    "            # print(myd)\n",
    "            my_dict.update(myd)\n",
    "    return my_dict"
   ]
  },
  {
   "cell_type": "code",
   "execution_count": 10,
   "metadata": {},
   "outputs": [],
   "source": [
    "uf_data['details'] = uf_data.details.apply(detail_string_to_dict)"
   ]
  },
  {
   "cell_type": "code",
   "execution_count": 11,
   "metadata": {},
   "outputs": [
    {
     "output_type": "execute_result",
     "data": {
      "text/plain": [
       "   Unnamed: 0               name                  address  unit sqft bed bath  \\\n",
       "1           1  Avanti Apartments  10697 W Centennial Pkwy  2140  753   1    1   \n",
       "2           2  Avanti Apartments  10697 W Centennial Pkwy  1119  771   1    1   \n",
       "3           3  Avanti Apartments  10697 W Centennial Pkwy  1078  849   1    1   \n",
       "4           4  Avanti Apartments  10697 W Centennial Pkwy  1092  820   1    1   \n",
       "5           5  Avanti Apartments  10697 W Centennial Pkwy  3030  801   1    1   \n",
       "\n",
       "  price       city state zipcode  \\\n",
       "1  1127  Las Vegas    NV   89166   \n",
       "2  1124  Las Vegas    NV   89166   \n",
       "3  1335  Las Vegas    NV   89166   \n",
       "4  1347  Las Vegas    NV   89166   \n",
       "5  1123  Las Vegas    NV   89166   \n",
       "\n",
       "                                         description  \\\n",
       "1  This apartment is located at 10697 W Centennia...   \n",
       "2  This apartment is located at 10697 W Centennia...   \n",
       "3  This apartment is located at 10697 W Centennia...   \n",
       "4  This apartment is located at 10697 W Centennia...   \n",
       "5  This apartment is located at 10697 W Centennia...   \n",
       "\n",
       "                                             details  \\\n",
       "1  {'Heating': 'Other', 'Days on Market': '41 Day...   \n",
       "2  {'Heating': 'Other', 'Days on Market': '41 Day...   \n",
       "3  {'Heating': 'Other', 'Days on Market': '41 Day...   \n",
       "4  {'Heating': 'Other', 'Days on Market': '41 Day...   \n",
       "5  {'Heating': 'Other', 'Days on Market': '41 Day...   \n",
       "\n",
       "                                                 url        date  \n",
       "1  https://www.trulia.com/c/nv/las-vegas/avanti-a...  11/17/2020  \n",
       "2  https://www.trulia.com/c/nv/las-vegas/avanti-a...  11/17/2020  \n",
       "3  https://www.trulia.com/c/nv/las-vegas/avanti-a...  11/17/2020  \n",
       "4  https://www.trulia.com/c/nv/las-vegas/avanti-a...  11/17/2020  \n",
       "5  https://www.trulia.com/c/nv/las-vegas/avanti-a...  11/17/2020  "
      ],
      "text/html": "<div>\n<style scoped>\n    .dataframe tbody tr th:only-of-type {\n        vertical-align: middle;\n    }\n\n    .dataframe tbody tr th {\n        vertical-align: top;\n    }\n\n    .dataframe thead th {\n        text-align: right;\n    }\n</style>\n<table border=\"1\" class=\"dataframe\">\n  <thead>\n    <tr style=\"text-align: right;\">\n      <th></th>\n      <th>Unnamed: 0</th>\n      <th>name</th>\n      <th>address</th>\n      <th>unit</th>\n      <th>sqft</th>\n      <th>bed</th>\n      <th>bath</th>\n      <th>price</th>\n      <th>city</th>\n      <th>state</th>\n      <th>zipcode</th>\n      <th>description</th>\n      <th>details</th>\n      <th>url</th>\n      <th>date</th>\n    </tr>\n  </thead>\n  <tbody>\n    <tr>\n      <th>1</th>\n      <td>1</td>\n      <td>Avanti Apartments</td>\n      <td>10697 W Centennial Pkwy</td>\n      <td>2140</td>\n      <td>753</td>\n      <td>1</td>\n      <td>1</td>\n      <td>1127</td>\n      <td>Las Vegas</td>\n      <td>NV</td>\n      <td>89166</td>\n      <td>This apartment is located at 10697 W Centennia...</td>\n      <td>{'Heating': 'Other', 'Days on Market': '41 Day...</td>\n      <td>https://www.trulia.com/c/nv/las-vegas/avanti-a...</td>\n      <td>11/17/2020</td>\n    </tr>\n    <tr>\n      <th>2</th>\n      <td>2</td>\n      <td>Avanti Apartments</td>\n      <td>10697 W Centennial Pkwy</td>\n      <td>1119</td>\n      <td>771</td>\n      <td>1</td>\n      <td>1</td>\n      <td>1124</td>\n      <td>Las Vegas</td>\n      <td>NV</td>\n      <td>89166</td>\n      <td>This apartment is located at 10697 W Centennia...</td>\n      <td>{'Heating': 'Other', 'Days on Market': '41 Day...</td>\n      <td>https://www.trulia.com/c/nv/las-vegas/avanti-a...</td>\n      <td>11/17/2020</td>\n    </tr>\n    <tr>\n      <th>3</th>\n      <td>3</td>\n      <td>Avanti Apartments</td>\n      <td>10697 W Centennial Pkwy</td>\n      <td>1078</td>\n      <td>849</td>\n      <td>1</td>\n      <td>1</td>\n      <td>1335</td>\n      <td>Las Vegas</td>\n      <td>NV</td>\n      <td>89166</td>\n      <td>This apartment is located at 10697 W Centennia...</td>\n      <td>{'Heating': 'Other', 'Days on Market': '41 Day...</td>\n      <td>https://www.trulia.com/c/nv/las-vegas/avanti-a...</td>\n      <td>11/17/2020</td>\n    </tr>\n    <tr>\n      <th>4</th>\n      <td>4</td>\n      <td>Avanti Apartments</td>\n      <td>10697 W Centennial Pkwy</td>\n      <td>1092</td>\n      <td>820</td>\n      <td>1</td>\n      <td>1</td>\n      <td>1347</td>\n      <td>Las Vegas</td>\n      <td>NV</td>\n      <td>89166</td>\n      <td>This apartment is located at 10697 W Centennia...</td>\n      <td>{'Heating': 'Other', 'Days on Market': '41 Day...</td>\n      <td>https://www.trulia.com/c/nv/las-vegas/avanti-a...</td>\n      <td>11/17/2020</td>\n    </tr>\n    <tr>\n      <th>5</th>\n      <td>5</td>\n      <td>Avanti Apartments</td>\n      <td>10697 W Centennial Pkwy</td>\n      <td>3030</td>\n      <td>801</td>\n      <td>1</td>\n      <td>1</td>\n      <td>1123</td>\n      <td>Las Vegas</td>\n      <td>NV</td>\n      <td>89166</td>\n      <td>This apartment is located at 10697 W Centennia...</td>\n      <td>{'Heating': 'Other', 'Days on Market': '41 Day...</td>\n      <td>https://www.trulia.com/c/nv/las-vegas/avanti-a...</td>\n      <td>11/17/2020</td>\n    </tr>\n  </tbody>\n</table>\n</div>"
     },
     "metadata": {},
     "execution_count": 11
    }
   ],
   "source": [
    "uf_data.head()"
   ]
  },
  {
   "cell_type": "code",
   "execution_count": 12,
   "metadata": {},
   "outputs": [
    {
     "output_type": "execute_result",
     "data": {
      "text/plain": [
       "1    {'Heating': 'Other', 'Days on Market': '41 Day...\n",
       "2    {'Heating': 'Other', 'Days on Market': '41 Day...\n",
       "3    {'Heating': 'Other', 'Days on Market': '41 Day...\n",
       "4    {'Heating': 'Other', 'Days on Market': '41 Day...\n",
       "5    {'Heating': 'Other', 'Days on Market': '41 Day...\n",
       "Name: details, dtype: object"
      ]
     },
     "metadata": {},
     "execution_count": 12
    }
   ],
   "source": [
    "deets = uf_data.details\n",
    "deets.head()"
   ]
  },
  {
   "cell_type": "code",
   "execution_count": 13,
   "metadata": {},
   "outputs": [
    {
     "output_type": "execute_result",
     "data": {
      "text/plain": [
       "['Heating',\n",
       " 'Days on Market',\n",
       " 'Year Built',\n",
       " 'Property Type',\n",
       " 'Microwave',\n",
       " 'Air Conditioning',\n",
       " 'Hot Tub or Spa',\n",
       " 'Balcony',\n",
       " 'Parking',\n",
       " 'Pool',\n",
       " 'Cats',\n",
       " 'dogs allowed',\n",
       " 'Fitness Center',\n",
       " 'Additional Storage',\n",
       " 'Dishwasher',\n",
       " 'Disposal',\n",
       " 'Dryer',\n",
       " 'Laundry Facilities',\n",
       " 'Washer',\n",
       " 'Window Coverings',\n",
       " 'Disabled Access',\n",
       " 'Gated Entry',\n",
       " 'Patio',\n",
       " 'Assigned Parking Space',\n",
       " 'Ceiling Fan',\n",
       " 'Garage',\n",
       " 'Refrigerator',\n",
       " 'Barbeque Area',\n",
       " 'Garden',\n",
       " 'Sprinkler System',\n",
       " 'Off Street',\n",
       " 'Security System',\n",
       " 'Views',\n",
       " 'Fireplace',\n",
       " 'Deck',\n",
       " 'Sauna',\n",
       " 'Electric',\n",
       " 'HOA Fee',\n",
       " 'Lawn',\n",
       " 'Other',\n",
       " 'Elevator',\n",
       " 'Basketball Court',\n",
       " 'Tennis Court',\n",
       " 'Garage Detached',\n",
       " 'Lot Size',\n",
       " 'Furnished',\n",
       " 'Gas',\n",
       " 'Vaulted Ceiling',\n",
       " 'Cats allowed',\n",
       " 'Sport Court',\n",
       " 'Skylight',\n",
       " 'Double Paned Windows',\n",
       " 'Intercom',\n",
       " 'Handrails',\n",
       " 'On Street',\n",
       " 'Dogs allowed',\n",
       " 'See Virtual Tour',\n",
       " 'Propane Butane',\n",
       " 'Wet Bar',\n",
       " 'Dock',\n",
       " 'Waterfront',\n",
       " 'None',\n",
       " 'Porch',\n",
       " 'Pond',\n",
       " 'Solar',\n",
       " 'Doorman',\n",
       " 'Forced Air',\n",
       " 'Rv Parking']"
      ]
     },
     "metadata": {},
     "execution_count": 13
    }
   ],
   "source": [
    "my_list = []\n",
    "for deet in deets:\n",
    "    # print(deet)\n",
    "    for d in deet:\n",
    "        if d not in my_list:\n",
    "            my_list.append(d)\n",
    "        else:\n",
    "            pass\n",
    "\n",
    "    # my_list.append(list(deet.keys()))\n",
    "my_list"
   ]
  },
  {
   "cell_type": "code",
   "execution_count": 14,
   "metadata": {},
   "outputs": [],
   "source": [
    "# deets = uf_data.details\n",
    "# for deet in deets[:10]:\n",
    "#     # print(deet)\n",
    "#     for d in deet:\n",
    "#         if d in my_list:\n",
    "#             uf_data[d] = deet[d]\n",
    "#         else:\n",
    "#             pass\n",
    "# uf_data.head()"
   ]
  },
  {
   "cell_type": "code",
   "execution_count": 15,
   "metadata": {},
   "outputs": [
    {
     "output_type": "execute_result",
     "data": {
      "text/plain": [
       "  Heating     Days on Market Year Built Property Type Microwave  \\\n",
       "1   Other  41 Days on Trulia       2009     Apartment      True   \n",
       "2   Other  41 Days on Trulia       2009     Apartment      True   \n",
       "3   Other  41 Days on Trulia       2009     Apartment      True   \n",
       "4   Other  41 Days on Trulia       2009     Apartment      True   \n",
       "5   Other  41 Days on Trulia       2009     Apartment      True   \n",
       "\n",
       "  Air Conditioning Hot Tub or Spa Balcony Parking  Pool  ... Wet Bar Dock  \\\n",
       "1             True           True    True    None  True  ...     NaN  NaN   \n",
       "2             True           True    True    None  True  ...     NaN  NaN   \n",
       "3             True           True    True    None  True  ...     NaN  NaN   \n",
       "4             True           True    True    None  True  ...     NaN  NaN   \n",
       "5             True           True    True    None  True  ...     NaN  NaN   \n",
       "\n",
       "  Waterfront None Porch Pond Solar Doorman Forced Air Rv Parking  \n",
       "1        NaN  NaN   NaN  NaN   NaN     NaN        NaN        NaN  \n",
       "2        NaN  NaN   NaN  NaN   NaN     NaN        NaN        NaN  \n",
       "3        NaN  NaN   NaN  NaN   NaN     NaN        NaN        NaN  \n",
       "4        NaN  NaN   NaN  NaN   NaN     NaN        NaN        NaN  \n",
       "5        NaN  NaN   NaN  NaN   NaN     NaN        NaN        NaN  \n",
       "\n",
       "[5 rows x 68 columns]"
      ],
      "text/html": "<div>\n<style scoped>\n    .dataframe tbody tr th:only-of-type {\n        vertical-align: middle;\n    }\n\n    .dataframe tbody tr th {\n        vertical-align: top;\n    }\n\n    .dataframe thead th {\n        text-align: right;\n    }\n</style>\n<table border=\"1\" class=\"dataframe\">\n  <thead>\n    <tr style=\"text-align: right;\">\n      <th></th>\n      <th>Heating</th>\n      <th>Days on Market</th>\n      <th>Year Built</th>\n      <th>Property Type</th>\n      <th>Microwave</th>\n      <th>Air Conditioning</th>\n      <th>Hot Tub or Spa</th>\n      <th>Balcony</th>\n      <th>Parking</th>\n      <th>Pool</th>\n      <th>...</th>\n      <th>Wet Bar</th>\n      <th>Dock</th>\n      <th>Waterfront</th>\n      <th>None</th>\n      <th>Porch</th>\n      <th>Pond</th>\n      <th>Solar</th>\n      <th>Doorman</th>\n      <th>Forced Air</th>\n      <th>Rv Parking</th>\n    </tr>\n  </thead>\n  <tbody>\n    <tr>\n      <th>1</th>\n      <td>Other</td>\n      <td>41 Days on Trulia</td>\n      <td>2009</td>\n      <td>Apartment</td>\n      <td>True</td>\n      <td>True</td>\n      <td>True</td>\n      <td>True</td>\n      <td>None</td>\n      <td>True</td>\n      <td>...</td>\n      <td>NaN</td>\n      <td>NaN</td>\n      <td>NaN</td>\n      <td>NaN</td>\n      <td>NaN</td>\n      <td>NaN</td>\n      <td>NaN</td>\n      <td>NaN</td>\n      <td>NaN</td>\n      <td>NaN</td>\n    </tr>\n    <tr>\n      <th>2</th>\n      <td>Other</td>\n      <td>41 Days on Trulia</td>\n      <td>2009</td>\n      <td>Apartment</td>\n      <td>True</td>\n      <td>True</td>\n      <td>True</td>\n      <td>True</td>\n      <td>None</td>\n      <td>True</td>\n      <td>...</td>\n      <td>NaN</td>\n      <td>NaN</td>\n      <td>NaN</td>\n      <td>NaN</td>\n      <td>NaN</td>\n      <td>NaN</td>\n      <td>NaN</td>\n      <td>NaN</td>\n      <td>NaN</td>\n      <td>NaN</td>\n    </tr>\n    <tr>\n      <th>3</th>\n      <td>Other</td>\n      <td>41 Days on Trulia</td>\n      <td>2009</td>\n      <td>Apartment</td>\n      <td>True</td>\n      <td>True</td>\n      <td>True</td>\n      <td>True</td>\n      <td>None</td>\n      <td>True</td>\n      <td>...</td>\n      <td>NaN</td>\n      <td>NaN</td>\n      <td>NaN</td>\n      <td>NaN</td>\n      <td>NaN</td>\n      <td>NaN</td>\n      <td>NaN</td>\n      <td>NaN</td>\n      <td>NaN</td>\n      <td>NaN</td>\n    </tr>\n    <tr>\n      <th>4</th>\n      <td>Other</td>\n      <td>41 Days on Trulia</td>\n      <td>2009</td>\n      <td>Apartment</td>\n      <td>True</td>\n      <td>True</td>\n      <td>True</td>\n      <td>True</td>\n      <td>None</td>\n      <td>True</td>\n      <td>...</td>\n      <td>NaN</td>\n      <td>NaN</td>\n      <td>NaN</td>\n      <td>NaN</td>\n      <td>NaN</td>\n      <td>NaN</td>\n      <td>NaN</td>\n      <td>NaN</td>\n      <td>NaN</td>\n      <td>NaN</td>\n    </tr>\n    <tr>\n      <th>5</th>\n      <td>Other</td>\n      <td>41 Days on Trulia</td>\n      <td>2009</td>\n      <td>Apartment</td>\n      <td>True</td>\n      <td>True</td>\n      <td>True</td>\n      <td>True</td>\n      <td>None</td>\n      <td>True</td>\n      <td>...</td>\n      <td>NaN</td>\n      <td>NaN</td>\n      <td>NaN</td>\n      <td>NaN</td>\n      <td>NaN</td>\n      <td>NaN</td>\n      <td>NaN</td>\n      <td>NaN</td>\n      <td>NaN</td>\n      <td>NaN</td>\n    </tr>\n  </tbody>\n</table>\n<p>5 rows × 68 columns</p>\n</div>"
     },
     "metadata": {},
     "execution_count": 15
    }
   ],
   "source": [
    "final = pd.DataFrame(deets.T.to_dict())\n",
    "final = final.T\n",
    "final.head()"
   ]
  },
  {
   "cell_type": "code",
   "execution_count": 16,
   "metadata": {},
   "outputs": [
    {
     "output_type": "execute_result",
     "data": {
      "text/plain": [
       "          Heating     Days on Market Year Built Property Type  Microwave  \\\n",
       "1           Other  41 Days on Trulia       2009     Apartment          1   \n",
       "2           Other  41 Days on Trulia       2009     Apartment          1   \n",
       "3           Other  41 Days on Trulia       2009     Apartment          1   \n",
       "4           Other  41 Days on Trulia       2009     Apartment          1   \n",
       "5           Other  41 Days on Trulia       2009     Apartment          1   \n",
       "...           ...                ...        ...           ...        ...   \n",
       "34951  Forced Air  16 Days on Trulia       1972     Apartment          1   \n",
       "34953  Forced Air  48 Days on Trulia       1963     Apartment        nan   \n",
       "34954  Forced Air  48 Days on Trulia       1963     Apartment        nan   \n",
       "34956         NaN                NaN        NaN     Apartment        nan   \n",
       "34958         NaN  20 Days on Trulia        NaN     Apartment        nan   \n",
       "\n",
       "       Air Conditioning  Hot Tub or Spa  Balcony Parking  Pool  ...  Wet Bar  \\\n",
       "1                     1               1        1       0     1  ...      nan   \n",
       "2                     1               1        1       0     1  ...      nan   \n",
       "3                     1               1        1       0     1  ...      nan   \n",
       "4                     1               1        1       0     1  ...      nan   \n",
       "5                     1               1        1       0     1  ...      nan   \n",
       "...                 ...             ...      ...     ...   ...  ...      ...   \n",
       "34951               nan             nan      nan       0   nan  ...      nan   \n",
       "34953               nan             nan      nan       0     1  ...      nan   \n",
       "34954               nan             nan      nan       0     1  ...      nan   \n",
       "34956               nan             nan      nan       0   nan  ...      nan   \n",
       "34958               nan             nan      nan       0   nan  ...      nan   \n",
       "\n",
       "       Dock  Waterfront  None  Porch  Pond  Solar  Doorman  Forced Air  \\\n",
       "1       nan         nan   nan    nan   nan    nan      nan         nan   \n",
       "2       nan         nan   nan    nan   nan    nan      nan         nan   \n",
       "3       nan         nan   nan    nan   nan    nan      nan         nan   \n",
       "4       nan         nan   nan    nan   nan    nan      nan         nan   \n",
       "5       nan         nan   nan    nan   nan    nan      nan         nan   \n",
       "...     ...         ...   ...    ...   ...    ...      ...         ...   \n",
       "34951   nan         nan   nan    nan   nan    nan      nan         nan   \n",
       "34953   nan         nan   nan    nan   nan    nan      nan         nan   \n",
       "34954   nan         nan   nan    nan   nan    nan      nan         nan   \n",
       "34956   nan         nan   nan    nan   nan    nan      nan         nan   \n",
       "34958   nan         nan   nan    nan   nan    nan      nan         nan   \n",
       "\n",
       "       Rv Parking  \n",
       "1             nan  \n",
       "2             nan  \n",
       "3             nan  \n",
       "4             nan  \n",
       "5             nan  \n",
       "...           ...  \n",
       "34951         nan  \n",
       "34953         nan  \n",
       "34954         nan  \n",
       "34956         nan  \n",
       "34958         nan  \n",
       "\n",
       "[30543 rows x 68 columns]"
      ],
      "text/html": "<div>\n<style scoped>\n    .dataframe tbody tr th:only-of-type {\n        vertical-align: middle;\n    }\n\n    .dataframe tbody tr th {\n        vertical-align: top;\n    }\n\n    .dataframe thead th {\n        text-align: right;\n    }\n</style>\n<table border=\"1\" class=\"dataframe\">\n  <thead>\n    <tr style=\"text-align: right;\">\n      <th></th>\n      <th>Heating</th>\n      <th>Days on Market</th>\n      <th>Year Built</th>\n      <th>Property Type</th>\n      <th>Microwave</th>\n      <th>Air Conditioning</th>\n      <th>Hot Tub or Spa</th>\n      <th>Balcony</th>\n      <th>Parking</th>\n      <th>Pool</th>\n      <th>...</th>\n      <th>Wet Bar</th>\n      <th>Dock</th>\n      <th>Waterfront</th>\n      <th>None</th>\n      <th>Porch</th>\n      <th>Pond</th>\n      <th>Solar</th>\n      <th>Doorman</th>\n      <th>Forced Air</th>\n      <th>Rv Parking</th>\n    </tr>\n  </thead>\n  <tbody>\n    <tr>\n      <th>1</th>\n      <td>Other</td>\n      <td>41 Days on Trulia</td>\n      <td>2009</td>\n      <td>Apartment</td>\n      <td>1</td>\n      <td>1</td>\n      <td>1</td>\n      <td>1</td>\n      <td>0</td>\n      <td>1</td>\n      <td>...</td>\n      <td>nan</td>\n      <td>nan</td>\n      <td>nan</td>\n      <td>nan</td>\n      <td>nan</td>\n      <td>nan</td>\n      <td>nan</td>\n      <td>nan</td>\n      <td>nan</td>\n      <td>nan</td>\n    </tr>\n    <tr>\n      <th>2</th>\n      <td>Other</td>\n      <td>41 Days on Trulia</td>\n      <td>2009</td>\n      <td>Apartment</td>\n      <td>1</td>\n      <td>1</td>\n      <td>1</td>\n      <td>1</td>\n      <td>0</td>\n      <td>1</td>\n      <td>...</td>\n      <td>nan</td>\n      <td>nan</td>\n      <td>nan</td>\n      <td>nan</td>\n      <td>nan</td>\n      <td>nan</td>\n      <td>nan</td>\n      <td>nan</td>\n      <td>nan</td>\n      <td>nan</td>\n    </tr>\n    <tr>\n      <th>3</th>\n      <td>Other</td>\n      <td>41 Days on Trulia</td>\n      <td>2009</td>\n      <td>Apartment</td>\n      <td>1</td>\n      <td>1</td>\n      <td>1</td>\n      <td>1</td>\n      <td>0</td>\n      <td>1</td>\n      <td>...</td>\n      <td>nan</td>\n      <td>nan</td>\n      <td>nan</td>\n      <td>nan</td>\n      <td>nan</td>\n      <td>nan</td>\n      <td>nan</td>\n      <td>nan</td>\n      <td>nan</td>\n      <td>nan</td>\n    </tr>\n    <tr>\n      <th>4</th>\n      <td>Other</td>\n      <td>41 Days on Trulia</td>\n      <td>2009</td>\n      <td>Apartment</td>\n      <td>1</td>\n      <td>1</td>\n      <td>1</td>\n      <td>1</td>\n      <td>0</td>\n      <td>1</td>\n      <td>...</td>\n      <td>nan</td>\n      <td>nan</td>\n      <td>nan</td>\n      <td>nan</td>\n      <td>nan</td>\n      <td>nan</td>\n      <td>nan</td>\n      <td>nan</td>\n      <td>nan</td>\n      <td>nan</td>\n    </tr>\n    <tr>\n      <th>5</th>\n      <td>Other</td>\n      <td>41 Days on Trulia</td>\n      <td>2009</td>\n      <td>Apartment</td>\n      <td>1</td>\n      <td>1</td>\n      <td>1</td>\n      <td>1</td>\n      <td>0</td>\n      <td>1</td>\n      <td>...</td>\n      <td>nan</td>\n      <td>nan</td>\n      <td>nan</td>\n      <td>nan</td>\n      <td>nan</td>\n      <td>nan</td>\n      <td>nan</td>\n      <td>nan</td>\n      <td>nan</td>\n      <td>nan</td>\n    </tr>\n    <tr>\n      <th>...</th>\n      <td>...</td>\n      <td>...</td>\n      <td>...</td>\n      <td>...</td>\n      <td>...</td>\n      <td>...</td>\n      <td>...</td>\n      <td>...</td>\n      <td>...</td>\n      <td>...</td>\n      <td>...</td>\n      <td>...</td>\n      <td>...</td>\n      <td>...</td>\n      <td>...</td>\n      <td>...</td>\n      <td>...</td>\n      <td>...</td>\n      <td>...</td>\n      <td>...</td>\n      <td>...</td>\n    </tr>\n    <tr>\n      <th>34951</th>\n      <td>Forced Air</td>\n      <td>16 Days on Trulia</td>\n      <td>1972</td>\n      <td>Apartment</td>\n      <td>1</td>\n      <td>nan</td>\n      <td>nan</td>\n      <td>nan</td>\n      <td>0</td>\n      <td>nan</td>\n      <td>...</td>\n      <td>nan</td>\n      <td>nan</td>\n      <td>nan</td>\n      <td>nan</td>\n      <td>nan</td>\n      <td>nan</td>\n      <td>nan</td>\n      <td>nan</td>\n      <td>nan</td>\n      <td>nan</td>\n    </tr>\n    <tr>\n      <th>34953</th>\n      <td>Forced Air</td>\n      <td>48 Days on Trulia</td>\n      <td>1963</td>\n      <td>Apartment</td>\n      <td>nan</td>\n      <td>nan</td>\n      <td>nan</td>\n      <td>nan</td>\n      <td>0</td>\n      <td>1</td>\n      <td>...</td>\n      <td>nan</td>\n      <td>nan</td>\n      <td>nan</td>\n      <td>nan</td>\n      <td>nan</td>\n      <td>nan</td>\n      <td>nan</td>\n      <td>nan</td>\n      <td>nan</td>\n      <td>nan</td>\n    </tr>\n    <tr>\n      <th>34954</th>\n      <td>Forced Air</td>\n      <td>48 Days on Trulia</td>\n      <td>1963</td>\n      <td>Apartment</td>\n      <td>nan</td>\n      <td>nan</td>\n      <td>nan</td>\n      <td>nan</td>\n      <td>0</td>\n      <td>1</td>\n      <td>...</td>\n      <td>nan</td>\n      <td>nan</td>\n      <td>nan</td>\n      <td>nan</td>\n      <td>nan</td>\n      <td>nan</td>\n      <td>nan</td>\n      <td>nan</td>\n      <td>nan</td>\n      <td>nan</td>\n    </tr>\n    <tr>\n      <th>34956</th>\n      <td>NaN</td>\n      <td>NaN</td>\n      <td>NaN</td>\n      <td>Apartment</td>\n      <td>nan</td>\n      <td>nan</td>\n      <td>nan</td>\n      <td>nan</td>\n      <td>0</td>\n      <td>nan</td>\n      <td>...</td>\n      <td>nan</td>\n      <td>nan</td>\n      <td>nan</td>\n      <td>nan</td>\n      <td>nan</td>\n      <td>nan</td>\n      <td>nan</td>\n      <td>nan</td>\n      <td>nan</td>\n      <td>nan</td>\n    </tr>\n    <tr>\n      <th>34958</th>\n      <td>NaN</td>\n      <td>20 Days on Trulia</td>\n      <td>NaN</td>\n      <td>Apartment</td>\n      <td>nan</td>\n      <td>nan</td>\n      <td>nan</td>\n      <td>nan</td>\n      <td>0</td>\n      <td>nan</td>\n      <td>...</td>\n      <td>nan</td>\n      <td>nan</td>\n      <td>nan</td>\n      <td>nan</td>\n      <td>nan</td>\n      <td>nan</td>\n      <td>nan</td>\n      <td>nan</td>\n      <td>nan</td>\n      <td>nan</td>\n    </tr>\n  </tbody>\n</table>\n<p>30543 rows × 68 columns</p>\n</div>"
     },
     "metadata": {},
     "execution_count": 16
    }
   ],
   "source": [
    "final.replace(\"True\", value=int(1), inplace=True)\n",
    "final.replace(\"None\", value=int(0), inplace=True)\n",
    "final.replace(\"NaN\", value=int(0), inplace=True)\n",
    "final.replace(\"nan\", value=int(0), inplace=True)\n",
    "final\n"
   ]
  },
  {
   "cell_type": "code",
   "execution_count": 17,
   "metadata": {},
   "outputs": [
    {
     "output_type": "execute_result",
     "data": {
      "text/plain": [
       "          Heating Days on Market Year Built Property Type  Microwave  \\\n",
       "1           Other             41       2009     Apartment          1   \n",
       "2           Other             41       2009     Apartment          1   \n",
       "3           Other             41       2009     Apartment          1   \n",
       "4           Other             41       2009     Apartment          1   \n",
       "5           Other             41       2009     Apartment          1   \n",
       "...           ...            ...        ...           ...        ...   \n",
       "34951  Forced Air             16       1972     Apartment          1   \n",
       "34953  Forced Air             48       1963     Apartment        nan   \n",
       "34954  Forced Air             48       1963     Apartment        nan   \n",
       "34956         NaN            NaN        NaN     Apartment        nan   \n",
       "34958         NaN             20        NaN     Apartment        nan   \n",
       "\n",
       "       Air Conditioning  Hot Tub or Spa  Balcony Parking  Pool  ...  Wet Bar  \\\n",
       "1                     1               1        1       0     1  ...      nan   \n",
       "2                     1               1        1       0     1  ...      nan   \n",
       "3                     1               1        1       0     1  ...      nan   \n",
       "4                     1               1        1       0     1  ...      nan   \n",
       "5                     1               1        1       0     1  ...      nan   \n",
       "...                 ...             ...      ...     ...   ...  ...      ...   \n",
       "34951               nan             nan      nan       0   nan  ...      nan   \n",
       "34953               nan             nan      nan       0     1  ...      nan   \n",
       "34954               nan             nan      nan       0     1  ...      nan   \n",
       "34956               nan             nan      nan       0   nan  ...      nan   \n",
       "34958               nan             nan      nan       0   nan  ...      nan   \n",
       "\n",
       "       Dock  Waterfront  None  Porch  Pond  Solar  Doorman  Forced Air  \\\n",
       "1       nan         nan   nan    nan   nan    nan      nan         nan   \n",
       "2       nan         nan   nan    nan   nan    nan      nan         nan   \n",
       "3       nan         nan   nan    nan   nan    nan      nan         nan   \n",
       "4       nan         nan   nan    nan   nan    nan      nan         nan   \n",
       "5       nan         nan   nan    nan   nan    nan      nan         nan   \n",
       "...     ...         ...   ...    ...   ...    ...      ...         ...   \n",
       "34951   nan         nan   nan    nan   nan    nan      nan         nan   \n",
       "34953   nan         nan   nan    nan   nan    nan      nan         nan   \n",
       "34954   nan         nan   nan    nan   nan    nan      nan         nan   \n",
       "34956   nan         nan   nan    nan   nan    nan      nan         nan   \n",
       "34958   nan         nan   nan    nan   nan    nan      nan         nan   \n",
       "\n",
       "       Rv Parking  \n",
       "1             nan  \n",
       "2             nan  \n",
       "3             nan  \n",
       "4             nan  \n",
       "5             nan  \n",
       "...           ...  \n",
       "34951         nan  \n",
       "34953         nan  \n",
       "34954         nan  \n",
       "34956         nan  \n",
       "34958         nan  \n",
       "\n",
       "[30543 rows x 68 columns]"
      ],
      "text/html": "<div>\n<style scoped>\n    .dataframe tbody tr th:only-of-type {\n        vertical-align: middle;\n    }\n\n    .dataframe tbody tr th {\n        vertical-align: top;\n    }\n\n    .dataframe thead th {\n        text-align: right;\n    }\n</style>\n<table border=\"1\" class=\"dataframe\">\n  <thead>\n    <tr style=\"text-align: right;\">\n      <th></th>\n      <th>Heating</th>\n      <th>Days on Market</th>\n      <th>Year Built</th>\n      <th>Property Type</th>\n      <th>Microwave</th>\n      <th>Air Conditioning</th>\n      <th>Hot Tub or Spa</th>\n      <th>Balcony</th>\n      <th>Parking</th>\n      <th>Pool</th>\n      <th>...</th>\n      <th>Wet Bar</th>\n      <th>Dock</th>\n      <th>Waterfront</th>\n      <th>None</th>\n      <th>Porch</th>\n      <th>Pond</th>\n      <th>Solar</th>\n      <th>Doorman</th>\n      <th>Forced Air</th>\n      <th>Rv Parking</th>\n    </tr>\n  </thead>\n  <tbody>\n    <tr>\n      <th>1</th>\n      <td>Other</td>\n      <td>41</td>\n      <td>2009</td>\n      <td>Apartment</td>\n      <td>1</td>\n      <td>1</td>\n      <td>1</td>\n      <td>1</td>\n      <td>0</td>\n      <td>1</td>\n      <td>...</td>\n      <td>nan</td>\n      <td>nan</td>\n      <td>nan</td>\n      <td>nan</td>\n      <td>nan</td>\n      <td>nan</td>\n      <td>nan</td>\n      <td>nan</td>\n      <td>nan</td>\n      <td>nan</td>\n    </tr>\n    <tr>\n      <th>2</th>\n      <td>Other</td>\n      <td>41</td>\n      <td>2009</td>\n      <td>Apartment</td>\n      <td>1</td>\n      <td>1</td>\n      <td>1</td>\n      <td>1</td>\n      <td>0</td>\n      <td>1</td>\n      <td>...</td>\n      <td>nan</td>\n      <td>nan</td>\n      <td>nan</td>\n      <td>nan</td>\n      <td>nan</td>\n      <td>nan</td>\n      <td>nan</td>\n      <td>nan</td>\n      <td>nan</td>\n      <td>nan</td>\n    </tr>\n    <tr>\n      <th>3</th>\n      <td>Other</td>\n      <td>41</td>\n      <td>2009</td>\n      <td>Apartment</td>\n      <td>1</td>\n      <td>1</td>\n      <td>1</td>\n      <td>1</td>\n      <td>0</td>\n      <td>1</td>\n      <td>...</td>\n      <td>nan</td>\n      <td>nan</td>\n      <td>nan</td>\n      <td>nan</td>\n      <td>nan</td>\n      <td>nan</td>\n      <td>nan</td>\n      <td>nan</td>\n      <td>nan</td>\n      <td>nan</td>\n    </tr>\n    <tr>\n      <th>4</th>\n      <td>Other</td>\n      <td>41</td>\n      <td>2009</td>\n      <td>Apartment</td>\n      <td>1</td>\n      <td>1</td>\n      <td>1</td>\n      <td>1</td>\n      <td>0</td>\n      <td>1</td>\n      <td>...</td>\n      <td>nan</td>\n      <td>nan</td>\n      <td>nan</td>\n      <td>nan</td>\n      <td>nan</td>\n      <td>nan</td>\n      <td>nan</td>\n      <td>nan</td>\n      <td>nan</td>\n      <td>nan</td>\n    </tr>\n    <tr>\n      <th>5</th>\n      <td>Other</td>\n      <td>41</td>\n      <td>2009</td>\n      <td>Apartment</td>\n      <td>1</td>\n      <td>1</td>\n      <td>1</td>\n      <td>1</td>\n      <td>0</td>\n      <td>1</td>\n      <td>...</td>\n      <td>nan</td>\n      <td>nan</td>\n      <td>nan</td>\n      <td>nan</td>\n      <td>nan</td>\n      <td>nan</td>\n      <td>nan</td>\n      <td>nan</td>\n      <td>nan</td>\n      <td>nan</td>\n    </tr>\n    <tr>\n      <th>...</th>\n      <td>...</td>\n      <td>...</td>\n      <td>...</td>\n      <td>...</td>\n      <td>...</td>\n      <td>...</td>\n      <td>...</td>\n      <td>...</td>\n      <td>...</td>\n      <td>...</td>\n      <td>...</td>\n      <td>...</td>\n      <td>...</td>\n      <td>...</td>\n      <td>...</td>\n      <td>...</td>\n      <td>...</td>\n      <td>...</td>\n      <td>...</td>\n      <td>...</td>\n      <td>...</td>\n    </tr>\n    <tr>\n      <th>34951</th>\n      <td>Forced Air</td>\n      <td>16</td>\n      <td>1972</td>\n      <td>Apartment</td>\n      <td>1</td>\n      <td>nan</td>\n      <td>nan</td>\n      <td>nan</td>\n      <td>0</td>\n      <td>nan</td>\n      <td>...</td>\n      <td>nan</td>\n      <td>nan</td>\n      <td>nan</td>\n      <td>nan</td>\n      <td>nan</td>\n      <td>nan</td>\n      <td>nan</td>\n      <td>nan</td>\n      <td>nan</td>\n      <td>nan</td>\n    </tr>\n    <tr>\n      <th>34953</th>\n      <td>Forced Air</td>\n      <td>48</td>\n      <td>1963</td>\n      <td>Apartment</td>\n      <td>nan</td>\n      <td>nan</td>\n      <td>nan</td>\n      <td>nan</td>\n      <td>0</td>\n      <td>1</td>\n      <td>...</td>\n      <td>nan</td>\n      <td>nan</td>\n      <td>nan</td>\n      <td>nan</td>\n      <td>nan</td>\n      <td>nan</td>\n      <td>nan</td>\n      <td>nan</td>\n      <td>nan</td>\n      <td>nan</td>\n    </tr>\n    <tr>\n      <th>34954</th>\n      <td>Forced Air</td>\n      <td>48</td>\n      <td>1963</td>\n      <td>Apartment</td>\n      <td>nan</td>\n      <td>nan</td>\n      <td>nan</td>\n      <td>nan</td>\n      <td>0</td>\n      <td>1</td>\n      <td>...</td>\n      <td>nan</td>\n      <td>nan</td>\n      <td>nan</td>\n      <td>nan</td>\n      <td>nan</td>\n      <td>nan</td>\n      <td>nan</td>\n      <td>nan</td>\n      <td>nan</td>\n      <td>nan</td>\n    </tr>\n    <tr>\n      <th>34956</th>\n      <td>NaN</td>\n      <td>NaN</td>\n      <td>NaN</td>\n      <td>Apartment</td>\n      <td>nan</td>\n      <td>nan</td>\n      <td>nan</td>\n      <td>nan</td>\n      <td>0</td>\n      <td>nan</td>\n      <td>...</td>\n      <td>nan</td>\n      <td>nan</td>\n      <td>nan</td>\n      <td>nan</td>\n      <td>nan</td>\n      <td>nan</td>\n      <td>nan</td>\n      <td>nan</td>\n      <td>nan</td>\n      <td>nan</td>\n    </tr>\n    <tr>\n      <th>34958</th>\n      <td>NaN</td>\n      <td>20</td>\n      <td>NaN</td>\n      <td>Apartment</td>\n      <td>nan</td>\n      <td>nan</td>\n      <td>nan</td>\n      <td>nan</td>\n      <td>0</td>\n      <td>nan</td>\n      <td>...</td>\n      <td>nan</td>\n      <td>nan</td>\n      <td>nan</td>\n      <td>nan</td>\n      <td>nan</td>\n      <td>nan</td>\n      <td>nan</td>\n      <td>nan</td>\n      <td>nan</td>\n      <td>nan</td>\n    </tr>\n  </tbody>\n</table>\n<p>30543 rows × 68 columns</p>\n</div>"
     },
     "metadata": {},
     "execution_count": 17
    }
   ],
   "source": [
    "final['Days on Market'].replace(regex=True, to_replace=r'\\D', value='', inplace=True)\n",
    "final"
   ]
  },
  {
   "cell_type": "code",
   "execution_count": 18,
   "metadata": {},
   "outputs": [],
   "source": [
    "# use get_dummies on a subset of columns?"
   ]
  },
  {
   "cell_type": "code",
   "execution_count": 19,
   "metadata": {},
   "outputs": [],
   "source": [
    "deets = unfiltered_data.details"
   ]
  },
  {
   "cell_type": "code",
   "execution_count": 20,
   "metadata": {},
   "outputs": [
    {
     "output_type": "stream",
     "name": "stdout",
     "text": [
      "['T', '_AXIS_ALIASES', '_AXIS_IALIASES', '_AXIS_LEN', '_AXIS_NAMES', '_AXIS_NUMBERS', '_AXIS_ORDERS', '_AXIS_REVERSED', '_HANDLED_TYPES', '__abs__', '__add__', '__and__', '__annotations__', '__array__', '__array_priority__', '__array_ufunc__', '__array_wrap__', '__bool__', '__class__', '__contains__', '__copy__', '__deepcopy__', '__delattr__', '__delitem__', '__dict__', '__dir__', '__div__', '__divmod__', '__doc__', '__eq__', '__finalize__', '__float__', '__floordiv__', '__format__', '__ge__', '__getattr__', '__getattribute__', '__getitem__', '__getstate__', '__gt__', '__hash__', '__iadd__', '__iand__', '__ifloordiv__', '__imod__', '__imul__', '__init__', '__init_subclass__', '__int__', '__invert__', '__ior__', '__ipow__', '__isub__', '__iter__', '__itruediv__', '__ixor__', '__le__', '__len__', '__long__', '__lt__', '__matmul__', '__mod__', '__module__', '__mul__', '__ne__', '__neg__', '__new__', '__nonzero__', '__or__', '__pos__', '__pow__', '__radd__', '__rand__', '__rdiv__', '__rdivmod__', '__reduce__', '__reduce_ex__', '__repr__', '__rfloordiv__', '__rmatmul__', '__rmod__', '__rmul__', '__ror__', '__round__', '__rpow__', '__rsub__', '__rtruediv__', '__rxor__', '__setattr__', '__setitem__', '__setstate__', '__sizeof__', '__str__', '__sub__', '__subclasshook__', '__truediv__', '__weakref__', '__xor__', '_accessors', '_add_numeric_operations', '_add_series_or_dataframe_operations', '_agg_by_level', '_agg_examples_doc', '_agg_see_also_doc', '_aggregate', '_aggregate_multiple_funcs', '_align_frame', '_align_series', '_binop', '_box_item_values', '_builtin_table', '_can_hold_na', '_check_inplace_setting', '_check_is_chained_assignment_possible', '_check_label_or_level_ambiguity', '_check_setitem_copy', '_clear_item_cache', '_clip_with_one_bound', '_clip_with_scalar', '_consolidate', '_consolidate_inplace', '_construct_axes_dict', '_construct_axes_dict_from', '_construct_axes_from_arguments', '_constructor', '_constructor_expanddim', '_constructor_sliced', '_convert', '_convert_dtypes', '_create_indexer', '_cython_table', '_deprecations', '_dir_additions', '_dir_deletions', '_drop_axis', '_drop_labels_or_levels', '_find_valid_index', '_from_axes', '_get_axis', '_get_axis_name', '_get_axis_number', '_get_axis_resolvers', '_get_block_manager_axis', '_get_bool_data', '_get_cacher', '_get_cleaned_column_resolvers', '_get_cython_func', '_get_index_resolvers', '_get_item_cache', '_get_label_or_level_values', '_get_numeric_data', '_get_value', '_get_values', '_get_values_tuple', '_get_with', '_gotitem', '_iget_item_cache', '_index', '_indexed_same', '_info_axis', '_info_axis_name', '_info_axis_number', '_init_dict', '_init_mgr', '_internal_get_values', '_internal_names', '_internal_names_set', '_is_builtin_func', '_is_cached', '_is_copy', '_is_datelike_mixed_type', '_is_label_or_level_reference', '_is_label_reference', '_is_level_reference', '_is_mixed_type', '_is_numeric_mixed_type', '_is_view', '_ix', '_ixs', '_map_values', '_maybe_cache_changed', '_maybe_update_cacher', '_metadata', '_ndarray_values', '_needs_reindex_multi', '_obj_with_exclusions', '_protect_consolidate', '_reduce', '_reindex_axes', '_reindex_indexer', '_reindex_multi', '_reindex_with_indexers', '_repr_data_resource_', '_repr_latex_', '_reset_cache', '_reset_cacher', '_selected_obj', '_selection', '_selection_list', '_selection_name', '_set_as_cached', '_set_axis', '_set_axis_name', '_set_is_copy', '_set_item', '_set_labels', '_set_name', '_set_subtyp', '_set_value', '_set_values', '_set_with', '_set_with_engine', '_setup_axes', '_slice', '_stat_axis', '_stat_axis_name', '_stat_axis_number', '_take_with_is_copy', '_to_dict_of_blocks', '_try_aggregate_string_function', '_typ', '_unpickle_series_compat', '_update_inplace', '_validate_dtype', '_values', '_where', '_xs', 'abs', 'add', 'add_prefix', 'add_suffix', 'agg', 'aggregate', 'align', 'all', 'any', 'append', 'apply', 'argmax', 'argmin', 'argsort', 'array', 'asfreq', 'asof', 'astype', 'at', 'at_time', 'attrs', 'autocorr', 'axes', 'between', 'between_time', 'bfill', 'bool', 'clip', 'combine', 'combine_first', 'convert_dtypes', 'copy', 'corr', 'count', 'cov', 'cummax', 'cummin', 'cumprod', 'cumsum', 'describe', 'diff', 'div', 'divide', 'divmod', 'dot', 'drop', 'drop_duplicates', 'droplevel', 'dropna', 'dtype', 'dtypes', 'duplicated', 'empty', 'eq', 'equals', 'ewm', 'expanding', 'explode', 'factorize', 'ffill', 'fillna', 'filter', 'first', 'first_valid_index', 'floordiv', 'ge', 'get', 'groupby', 'gt', 'hasnans', 'head', 'hist', 'iat', 'idxmax', 'idxmin', 'iloc', 'index', 'infer_objects', 'interpolate', 'is_monotonic', 'is_monotonic_decreasing', 'is_monotonic_increasing', 'is_unique', 'isin', 'isna', 'isnull', 'item', 'items', 'iteritems', 'keys', 'kurt', 'kurtosis', 'last', 'last_valid_index', 'le', 'loc', 'lt', 'mad', 'map', 'mask', 'max', 'mean', 'median', 'memory_usage', 'min', 'mod', 'mode', 'mul', 'multiply', 'name', 'nbytes', 'ndim', 'ne', 'nlargest', 'notna', 'notnull', 'nsmallest', 'nunique', 'pct_change', 'pipe', 'plot', 'pop', 'pow', 'prod', 'product', 'quantile', 'radd', 'rank', 'ravel', 'rdiv', 'rdivmod', 'reindex', 'reindex_like', 'rename', 'rename_axis', 'reorder_levels', 'repeat', 'replace', 'resample', 'reset_index', 'rfloordiv', 'rmod', 'rmul', 'rolling', 'round', 'rpow', 'rsub', 'rtruediv', 'sample', 'searchsorted', 'sem', 'set_axis', 'shape', 'shift', 'size', 'skew', 'slice_shift', 'sort_index', 'sort_values', 'squeeze', 'std', 'str', 'sub', 'subtract', 'sum', 'swapaxes', 'swaplevel', 'tail', 'take', 'to_clipboard', 'to_csv', 'to_dict', 'to_excel', 'to_frame', 'to_hdf', 'to_json', 'to_latex', 'to_list', 'to_markdown', 'to_numpy', 'to_period', 'to_pickle', 'to_sql', 'to_string', 'to_timestamp', 'to_xarray', 'transform', 'transpose', 'truediv', 'truncate', 'tshift', 'tz_convert', 'tz_localize', 'unique', 'unstack', 'update', 'value_counts', 'values', 'var', 'view', 'where', 'xs']\n"
     ]
    }
   ],
   "source": [
    "print(dir(deets))\n"
   ]
  },
  {
   "cell_type": "code",
   "execution_count": 21,
   "metadata": {},
   "outputs": [
    {
     "output_type": "stream",
     "name": "stdout",
     "text": [
      "{'Heating': 'Forced Air', 'Days on Market': '20 Days on Trulia', 'Year Built': '1963', 'Property Type': 'Apartment', 'Microwave': 'True', 'Air Conditioning': 'True', 'Hot Tub or Spa': 'True', 'Balcony': 'True', 'Parking': 'None', 'Pool': 'True', 'Cats': 'True', 'dogs allowed': 'True', 'Fitness Center': 'True', \"['Heating\": \"Electric'\", \"'Days on Market\": \"36 Days on Trulia'\", \"'Year Built\": \"2008'\", \"'Property Type\": \"Apartment'\", \"'Microwave'\": 'True', \"'Air Conditioning'\": 'True', \"'Hot Tub or Spa'\": 'True', \"'Balcony'\": 'True', \"'Parking\": \"Off Street'\", \"'Pool'\": 'True', \"'Cats\": 'True', \"dogs allowed'\": 'True', \"'Fitness Center']\": 'True', 'Additional Storage': 'True', 'Dishwasher': 'True', 'Disposal': 'True', 'Dryer': 'True', 'Laundry Facilities': 'True', 'Washer': 'True', 'Window Coverings': 'True', 'Disabled Access': 'True', 'Gated Entry': 'True', 'Patio': 'True', 'Assigned Parking Space': 'True', 'Ceiling Fan': 'True', 'Garage': 'True', \"'Additional Storage'\": 'True', \"'Dishwasher'\": 'True', \"'Disposal'\": 'True', \"'Dryer'\": 'True', \"'Laundry Facilities'\": 'True', \"'Washer'\": 'True', \"'Window Coverings'\": 'True', \"'Disabled Access'\": 'True', \"'Gated Entry'\": 'True', \"'Patio'\": 'True', \"'Assigned Parking Space'\": 'True', \"'Ceiling Fan'\": 'True', \"'Garage'\": 'True', 'Refrigerator': 'True', 'Barbeque Area': 'True', 'Garden': 'True', 'Sprinkler System': 'True', 'Off Street': 'True', \"'Refrigerator'\": 'True', \"'Barbeque Area'\": 'True', \"'Garden'\": 'True', \"'Sprinkler System'\": 'True', \"Off Street'\": 'True', \"['Days on Market\": \"14 Days on Trulia'\", 'Security System': 'True', \"'Security System'\": 'True', 'Views': 'True', 'Fireplace': 'True', 'Deck': 'True', 'Sauna': 'True', \"'Views'\": 'True', \"'Fireplace'\": 'True', \"'Deck'\": 'True', \"'Fitness Center'\": 'True', \"'Sauna']\": 'True', \"dogs allowed']\": 'True', 'Electric': 'True', 'HOA Fee': '$762/Monthly', \"Electric'\": 'True', \"'HOA Fee\": \"$225/monthly'\", 'Lawn': 'True', \"['Property Type\": \"Apartment'\", \"'Lawn'\": 'True', 'Other': 'True', \"Other'\": 'True', 'Elevator': 'True', \"'Elevator'\": 'True', 'Basketball Court': 'True', 'Tennis Court': 'True', \"'Basketball Court'\": 'True', \"'Tennis Court']\": 'True', 'Garage Detached': 'True', \"Garage Detached'\": 'True', 'Lot Size': '23.59 acres', \"'Lot Size\": '2', 'Furnished': 'True', \"'Furnished'\": 'True', 'Gas': 'True', 'Vaulted Ceiling': 'True', \"Gas'\": 'True', \"'Vaulted Ceiling'\": 'True', \"'Pool']\": 'True', \"'Sauna'\": 'True', 'Cats allowed': 'True', \"'Cats allowed']\": 'True', \"['Views'\": 'True', 'Sport Court': 'True', \"'Sport Court']\": 'True', \"'Sport Court'\": 'True', 'Skylight': 'True', \"'Skylight'\": 'True', \"'Floors\": \"Carpet'\", \"'MLS/Source ID\": \"2224000'\", \"small dogs allowed'\": 'True', \"'Storage'\": 'True', \"Laminate'\": 'True', \"098 sqft']\": 'True', \"['Year Built\": \"2008'\", \"'Deposit\": '$1', 'Hardwood': 'True', 'Laminate': 'True', \"Linoleum Vinyl'\": 'True', 'None': 'True', \"Garage'\": 'True', \"'Available\": \"Jan 1st'\", \"920 sqft'\": 'True', 'small dogs': 'True', \"large dogs allowed']\": 'True', \"small dogs allowed']\": 'True', \"Carpet'\": 'True', \"Garage Attached'\": 'True', \"178 sqft']\": 'True', \"['Basement'\": 'True', \"'Heating\": 'Forced Air', \"000'\": 'True', \"484 sqft']\": 'True', \"704 sqft']\": 'True', \"'No pets allowed'\": 'True', 'Concrete': 'True', \"000']\": 'True', \"178 sqft'\": 'True', \"850']\": 'True', \"920 sqft']\": 'True', \"None'\": 'True', \"613 sqft'\": 'True', \"100']\": 'True', \"Carport'\": 'True', \"400']\": 'True', \"110 sqft'\": 'True', \"'Small dogs\": 'True', \"large dogs allowed'\": 'True', \"'Porch'\": 'True', \"357 sqft'\": 'True', \"849 sqft'\": 'True', \"304 sqft']\": 'True', \"890 sqft'\": 'True', \"892 sqft'\": 'True', \"Hardwood'\": 'True', \"662 sqft'\": 'True', \"100'\": 'True', \"049 sqft'\": 'True', \"'Small dogs allowed'\": 'True', \"600']\": 'True', \"300']\": 'True', \"401 sqft'\": 'True', \"044 sqft'\": 'True', \"833 sqft'\": 'True', \"800']\": 'True', \"215 sqft'\": 'True', \"'No pets allowed']\": 'True', \"484 sqft'\": 'True', \"792 sqft']\": 'True', \"356 sqft'\": 'True', \"162 sqft'\": 'True', \"791 sqft'\": 'True', \"662 sqft']\": 'True', \"742 sqft'\": 'True', \"098 sqft'\": 'True', \"969 sqft'\": 'True', \"'Attic'\": 'True', \"614 sqft'\": 'True', \"840 sqft']\": 'True', \"613 sqft']\": 'True', 'Carpet': 'True', \"048 sqft']\": 'True', \"892 sqft']\": 'True', \"969 sqft']\": 'True', \"306 sqft'\": 'True', \"'Basketball Court']\": 'True', \"110 sqft']\": 'True', \"356 sqft']\": 'True', \"792 sqft'\": 'True', \"485 sqft'\": 'True', \"256 sqft']\": 'True', \"742 sqft']\": 'True', \"600 sqft'\": 'True', \"525']\": 'True', \"'Waterfront'\": 'True', \"595']\": 'True', \"601 sqft']\": 'True', \"000 sqft']\": 'True', \"246 sqft']\": 'True', \"840 sqft'\": 'True', \"650']\": 'True', \"284/monthly'\": 'True', \"080 sqft'\": 'True', \"'Intercom']\": 'True', \"791 sqft']\": 'True', \"788 sqft'\": 'True', \"227 sqft']\": 'True', \"534 sqft'\": 'True', \"295']\": 'True', \"'Double Paned Windows'\": 'True', \"227 sqft'\": 'True', \"583 sqft'\": 'True', \"841 sqft'\": 'True', \"Forced Air'\": 'True', \"495']\": 'True', \"820/monthly'\": 'True', \"405 sqft']\": 'True', \"980 sqft']\": 'True', \"250'\": 'True', \"049 sqft']\": 'True', \"'Doorman'\": 'True', \"404 sqft']\": 'True', \"280 sqft'\": 'True', \"700']\": 'True', \"500']\": 'True', \"276 sqft'\": 'True', \"195']\": 'True', \"405 sqft'\": 'True', \"050']\": 'True', \"734 sqft'\": 'True', \"534 sqft']\": 'True', \"775']\": 'True', \"276 sqft']\": 'True', \"500 sqft'\": 'True', \"350']\": 'True', \"522 sqft'\": 'True', \"556 sqft']\": 'True', \"250']\": 'True', \"Concrete'\": 'True', \"712 sqft'\": 'True', \"695']\": 'True', \"495 sqft']\": 'True', \"304 sqft'\": 'True', \"018 sqft'\": 'True', \"625']\": 'True', \"663 sqft']\": 'True', \"538 sqft']\": 'True', \"520/monthly'\": 'True', \"995']\": 'True', \"'Wet Bar'\": 'True', \"'Cats allowed'\": 'True', \"200']\": 'True', \"950']\": 'True', \"'Jetted Bath Tub'\": 'True', \"300'\": 'True', \"552/monthly'\": 'True', \"953 sqft'\": 'True', \"070/monthly'\": 'True', \"500'\": 'True', \"640 sqft'\": 'True', \"348 sqft'\": 'True', \"116 sqft']\": 'True', \"500 sqft']\": 'True', 'Intercom': 'True', 'Double Paned Windows': 'True', 'Handrails': 'True', \"'Handrails'\": 'True', 'On Street': 'True', \"On Street'\": 'True', 'Dogs allowed': 'True', \"'Dogs allowed'\": 'True', 'See Virtual Tour': 'True', \"'See Virtual Tour'\": 'True', 'Propane Butane': 'True', \"Propane Butane'\": 'True', 'Wet Bar': 'True', 'Dock': 'True', \"'Dock'\": 'True', \"'Dogs allowed']\": 'True', \"'See Virtual Tour']\": 'True', 'Waterfront': 'True', 'Porch': 'True', 'Pond': 'True', 'Solar': 'True', 'Doorman': 'True', 'Forced Air': 'True', 'Rv Parking': 'True'}\n"
     ]
    }
   ],
   "source": [
    "\n",
    "my_dict = {}\n",
    "for deet in deets:\n",
    "    for d in deet.split(','):\n",
    "        if \":\" in d:\n",
    "            it = iter([(d.split(\":\")[0]).strip(), (d.split(\":\")[1]).strip()])\n",
    "            mydict = dict(zip(it, it))\n",
    "            my_dict.update(mydict)\n",
    "\n",
    "        else:\n",
    "            l = (d.strip()+\":True\").split(\":\")\n",
    "            it = iter(l)\n",
    "            myd = dict(zip(it, it))\n",
    "            # print(myd)\n",
    "            my_dict.update(myd)\n",
    "print(my_dict)"
   ]
  },
  {
   "cell_type": "code",
   "execution_count": 22,
   "metadata": {},
   "outputs": [],
   "source": [
    "it = iter((deets[0].split(\".\")[0]).split(\":\"))"
   ]
  },
  {
   "cell_type": "code",
   "execution_count": 23,
   "metadata": {},
   "outputs": [
    {
     "output_type": "stream",
     "name": "stdout",
     "text": [
      "Heating\n"
     ]
    }
   ],
   "source": [
    "print(next(it))"
   ]
  },
  {
   "cell_type": "code",
   "execution_count": null,
   "metadata": {},
   "outputs": [],
   "source": []
  },
  {
   "cell_type": "code",
   "execution_count": 24,
   "metadata": {},
   "outputs": [
    {
     "output_type": "execute_result",
     "data": {
      "text/plain": [
       "['A', 'B', 'B', 'N', 'D', 'I', 'K', 'H', 'J', 'R', 'E']"
      ]
     },
     "metadata": {},
     "execution_count": 24
    }
   ],
   "source": [
    "lets = \"A B B N D I K H J R E\".split(\" \")\n",
    "lets"
   ]
  },
  {
   "cell_type": "code",
   "execution_count": 25,
   "metadata": {},
   "outputs": [],
   "source": [
    "it = iter(lets)"
   ]
  },
  {
   "cell_type": "code",
   "execution_count": 26,
   "metadata": {},
   "outputs": [
    {
     "output_type": "stream",
     "name": "stdout",
     "text": [
      "[('A', 'B'), ('B', 'N'), ('D', 'I'), ('K', 'H'), ('J', 'R')]\n"
     ]
    }
   ],
   "source": [
    "print(list(zip(it, it)))"
   ]
  },
  {
   "cell_type": "code",
   "execution_count": 40,
   "metadata": {},
   "outputs": [
    {
     "output_type": "stream",
     "name": "stdout",
     "text": [
      "{'Heating': ' Other '}\n"
     ]
    }
   ],
   "source": [
    "my_dict = {}\n",
    "deet =  deets[0]\n",
    "d = deet.split(',')\n",
    "\n",
    "if \":\" in d[0]:\n",
    "    # it = iter([(d[0].split(\":\")[0]).strip(), (d[0].split(\":\")[1]).strip()])\n",
    "    # mydict = dict(zip(it, it))\n",
    "    # my_dict.update(mydict)\n",
    "    d1 = d[0].split(\":\")[0]\n",
    "    d2 = d[0].split(\":\")[1]\n",
    "    my_dict.update({d1: d2})\n",
    "print(my_dict)\n"
   ]
  },
  {
   "cell_type": "code",
   "execution_count": null,
   "metadata": {},
   "outputs": [],
   "source": []
  }
 ]
}