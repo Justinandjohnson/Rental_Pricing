{
 "metadata": {
  "language_info": {
   "codemirror_mode": {
    "name": "ipython",
    "version": 3
   },
   "file_extension": ".py",
   "mimetype": "text/x-python",
   "name": "python",
   "nbconvert_exporter": "python",
   "pygments_lexer": "ipython3",
   "version": "3.8.5-final"
  },
  "orig_nbformat": 2,
  "kernelspec": {
   "name": "python3",
   "display_name": "Python 3.8.5 64-bit ('dl': conda)",
   "metadata": {
    "interpreter": {
     "hash": "55fed6f79e51eda0a9c54a0c0fc683d91e072f564472f32a0f35b2737b36592d"
    }
   }
  }
 },
 "nbformat": 4,
 "nbformat_minor": 2,
 "cells": [
  {
   "source": [
    "### After several days of getting my scraper to a reasonable level, now it's time to build a simple model that describes the data \n",
    "\n",
    "### Current\n",
    "since I lack time-series data for each location this will simply use know information as well as maybe some exogeneous information to predict prices.\n",
    "\n",
    "- determine what predictors are releavent on a national level to estimate prices\n",
    "- determine what predictors are releavent on a local level to restimate prices\n",
    "\n",
    "### FUTURE\n",
    "forecast prices\n",
    "\n",
    "- locate additional sources of information to be used for backtests\n",
    "- seasonality model?\n",
    "\n"
   ],
   "cell_type": "markdown",
   "metadata": {}
  },
  {
   "cell_type": "code",
   "execution_count": 34,
   "metadata": {},
   "outputs": [],
   "source": [
    "### import the relevant libraries ###\n",
    "import pandas as pd\n",
    "import numpy as np\n",
    "from datetime import datetime as dt\n",
    "pd.options.display.float_format = \"{:.0f}\".format\n",
    "\n",
    "import re\n",
    "\n",
    "#### sklearn ###\n",
    "from sklearn.preprocessing import StandardScaler\n",
    "retail_scaler = StandardScaler()\n",
    "\n",
    "# for making a Custom Scaler\n",
    "from sklearn.base import BaseEstimator, TransformerMixin\n",
    "\n",
    "# import the LogReg model from sklearn\n",
    "from sklearn.linear_model import LogisticRegression\n",
    "\n",
    "# import the 'metrics' module, which includes important metrics we may want to use\n",
    "from sklearn import metrics"
   ]
  },
  {
   "cell_type": "code",
   "execution_count": null,
   "metadata": {},
   "outputs": [],
   "source": [
    "# create the Custom Scaler class\n",
    "\n",
    "class CustomScaler(BaseEstimator,TransformerMixin): \n",
    "    \n",
    "    # init or what information we need to declare a CustomScaler object\n",
    "    # and what is calculated/declared as we do\n",
    "    \n",
    "    def __init__(self,columns,copy=True,with_mean=True,with_std=True):\n",
    "        \n",
    "        # scaler is nothing but a Standard Scaler object\n",
    "        self.scaler = StandardScaler(copy,with_mean,with_std)\n",
    "        # with some columns 'twist'\n",
    "        self.columns = columns\n",
    "        self.mean_ = None\n",
    "        self.var_ = None\n",
    "        \n",
    "    \n",
    "    # the fit method, which, again based on StandardScale\n",
    "    \n",
    "    def fit(self, X, y=None):\n",
    "        self.scaler.fit(X[self.columns], y)\n",
    "        self.mean_ = np.mean(X[self.columns])\n",
    "        self.var_ = np.var(X[self.columns])\n",
    "        return self\n",
    "    \n",
    "    # the transform method which does the actual scaling\n",
    "\n",
    "    def transform(self, X, y=None, copy=None):\n",
    "        \n",
    "        # record the initial order of the columns\n",
    "        init_col_order = X.columns\n",
    "        \n",
    "        # scale all features that you chose when creating the instance of the class\n",
    "        X_scaled = pd.DataFrame(self.scaler.transform(X[self.columns]), columns=self.columns)\n",
    "        \n",
    "        # declare a variable containing all information that was not scaled\n",
    "        X_not_scaled = X.loc[:,~X.columns.isin(self.columns)]\n",
    "        \n",
    "        # return a data frame which contains all scaled features and all 'not scaled' features\n",
    "        # use the original order (that you recorded in the beginning)\n",
    "        return pd.concat([X_not_scaled, X_scaled], axis=1)[init_col_order]"
   ]
  },
  {
   "cell_type": "code",
   "execution_count": 23,
   "metadata": {},
   "outputs": [
    {
     "output_type": "execute_result",
     "data": {
      "text/plain": [
       "(34959, 15)"
      ]
     },
     "metadata": {},
     "execution_count": 23
    }
   ],
   "source": [
    "unfiltered_data = pd.read_csv(\"DATA/scrape_files/Master.csv\")\n",
    "unfiltered_data.shape\n"
   ]
  },
  {
   "cell_type": "code",
   "execution_count": 25,
   "metadata": {},
   "outputs": [
    {
     "output_type": "execute_result",
     "data": {
      "text/plain": [
       "Unnamed: 0     2147\n",
       "name           2147\n",
       "address        2147\n",
       "unit           2147\n",
       "sqft           2147\n",
       "bed            2147\n",
       "bath           2147\n",
       "price          2147\n",
       "city           2147\n",
       "state          2147\n",
       "zipcode        2147\n",
       "description    2147\n",
       "details        2147\n",
       "url            2147\n",
       "date           2147\n",
       "dtype: int64"
      ]
     },
     "metadata": {},
     "execution_count": 25
    }
   ],
   "source": [
    "unfiltered_data[unfiltered_data.sqft.str.contains(\"-\") | unfiltered_data.sqft.str.contains(\"NaN\")].count()\n"
   ]
  },
  {
   "cell_type": "code",
   "execution_count": 27,
   "metadata": {},
   "outputs": [
    {
     "output_type": "execute_result",
     "data": {
      "text/plain": [
       "Unnamed: 0     32812\n",
       "name           32812\n",
       "address        32812\n",
       "unit           32070\n",
       "sqft           32066\n",
       "bed            32812\n",
       "bath           32812\n",
       "price          32812\n",
       "city           32812\n",
       "state          32812\n",
       "zipcode        32812\n",
       "description    32812\n",
       "details        32812\n",
       "url            32812\n",
       "date           32812\n",
       "dtype: int64"
      ]
     },
     "metadata": {},
     "execution_count": 27
    }
   ],
   "source": [
    "unfiltered_data[~unfiltered_data.sqft.str.contains(\"-\", na=False)].count()"
   ]
  },
  {
   "cell_type": "code",
   "execution_count": 76,
   "metadata": {},
   "outputs": [],
   "source": [
    "# remove the 2k+ appartment summary listsings, which (I believe moves the data where the column was shifted)\n",
    "uf_data = unfiltered_data[~unfiltered_data.sqft.str.contains(\"-\", na=False)]\n",
    "uf_data = uf_data[~uf_data.unit.str.contains(\"Bed\", na=False)]\n",
    "uf_data = uf_data[uf_data.unit != 'home'] # get rid of homes/condos for rent (for now)"
   ]
  },
  {
   "cell_type": "code",
   "execution_count": 88,
   "metadata": {},
   "outputs": [],
   "source": [
    "uf_data.sqft.replace(regex=True, to_replace=r'\\D', value='', inplace=True)\n",
    "uf_data.sqft.fillna(0, inplace=True)\n",
    "\n",
    "uf_data.unit.replace(regex=True, to_replace=r'\\D', value='', inplace=True)\n",
    "uf_data.bed.replace(regex=True, to_replace=r'\\D', value='', inplace=True)\n",
    "uf_data.bath.replace(regex=True, to_replace=r'\\D', value='', inplace=True)\n",
    "uf_data.price.replace(regex=True, to_replace=r'\\D', value='', inplace=True)"
   ]
  },
  {
   "cell_type": "code",
   "execution_count": 86,
   "metadata": {},
   "outputs": [],
   "source": [
    "uf_data.price.replace(regex=True, to_replace=r'\\D', value='', inplace=True)"
   ]
  },
  {
   "cell_type": "code",
   "execution_count": 241,
   "metadata": {},
   "outputs": [],
   "source": [
    "def detail_string_to_dict(detail):\n",
    "    \"\"\" something \"\"\"\n",
    "    my_dict = {}\n",
    "    for d in detail.split(','):\n",
    "        if \":\" in d:\n",
    "            it = iter([(d.split(\":\")[0]).strip(), (d.split(\":\")[1]).strip()])\n",
    "            mydict = dict(zip(it, it))\n",
    "            my_dict.update(mydict)\n",
    "\n",
    "        else:\n",
    "            l = (d.strip()+\":True\").split(\":\")\n",
    "            it = iter(l)\n",
    "            myd = dict(zip(it, it))\n",
    "            # print(myd)\n",
    "            my_dict.update(myd)\n",
    "    return my_dict"
   ]
  },
  {
   "cell_type": "code",
   "execution_count": 247,
   "metadata": {},
   "outputs": [],
   "source": [
    "uf_data['details'] = uf_data.details.apply(detail_string_to_dict)"
   ]
  },
  {
   "cell_type": "code",
   "execution_count": 249,
   "metadata": {},
   "outputs": [
    {
     "output_type": "execute_result",
     "data": {
      "text/plain": [
       "   Unnamed: 0               name                  address  unit sqft bed bath  \\\n",
       "1           1  Avanti Apartments  10697 W Centennial Pkwy  2140  753   1    1   \n",
       "2           2  Avanti Apartments  10697 W Centennial Pkwy  1119  771   1    1   \n",
       "3           3  Avanti Apartments  10697 W Centennial Pkwy  1078  849   1    1   \n",
       "4           4  Avanti Apartments  10697 W Centennial Pkwy  1092  820   1    1   \n",
       "5           5  Avanti Apartments  10697 W Centennial Pkwy  3030  801   1    1   \n",
       "\n",
       "  price       city state zipcode  \\\n",
       "1  1127  Las Vegas    NV   89166   \n",
       "2  1124  Las Vegas    NV   89166   \n",
       "3  1335  Las Vegas    NV   89166   \n",
       "4  1347  Las Vegas    NV   89166   \n",
       "5  1123  Las Vegas    NV   89166   \n",
       "\n",
       "                                         description  \\\n",
       "1  This apartment is located at 10697 W Centennia...   \n",
       "2  This apartment is located at 10697 W Centennia...   \n",
       "3  This apartment is located at 10697 W Centennia...   \n",
       "4  This apartment is located at 10697 W Centennia...   \n",
       "5  This apartment is located at 10697 W Centennia...   \n",
       "\n",
       "                                             details  \\\n",
       "1  {'Heating': 'Other', 'Days on Market': '41 Day...   \n",
       "2  {'Heating': 'Other', 'Days on Market': '41 Day...   \n",
       "3  {'Heating': 'Other', 'Days on Market': '41 Day...   \n",
       "4  {'Heating': 'Other', 'Days on Market': '41 Day...   \n",
       "5  {'Heating': 'Other', 'Days on Market': '41 Day...   \n",
       "\n",
       "                                                 url        date  \n",
       "1  https://www.trulia.com/c/nv/las-vegas/avanti-a...  11/17/2020  \n",
       "2  https://www.trulia.com/c/nv/las-vegas/avanti-a...  11/17/2020  \n",
       "3  https://www.trulia.com/c/nv/las-vegas/avanti-a...  11/17/2020  \n",
       "4  https://www.trulia.com/c/nv/las-vegas/avanti-a...  11/17/2020  \n",
       "5  https://www.trulia.com/c/nv/las-vegas/avanti-a...  11/17/2020  "
      ],
      "text/html": "<div>\n<style scoped>\n    .dataframe tbody tr th:only-of-type {\n        vertical-align: middle;\n    }\n\n    .dataframe tbody tr th {\n        vertical-align: top;\n    }\n\n    .dataframe thead th {\n        text-align: right;\n    }\n</style>\n<table border=\"1\" class=\"dataframe\">\n  <thead>\n    <tr style=\"text-align: right;\">\n      <th></th>\n      <th>Unnamed: 0</th>\n      <th>name</th>\n      <th>address</th>\n      <th>unit</th>\n      <th>sqft</th>\n      <th>bed</th>\n      <th>bath</th>\n      <th>price</th>\n      <th>city</th>\n      <th>state</th>\n      <th>zipcode</th>\n      <th>description</th>\n      <th>details</th>\n      <th>url</th>\n      <th>date</th>\n    </tr>\n  </thead>\n  <tbody>\n    <tr>\n      <th>1</th>\n      <td>1</td>\n      <td>Avanti Apartments</td>\n      <td>10697 W Centennial Pkwy</td>\n      <td>2140</td>\n      <td>753</td>\n      <td>1</td>\n      <td>1</td>\n      <td>1127</td>\n      <td>Las Vegas</td>\n      <td>NV</td>\n      <td>89166</td>\n      <td>This apartment is located at 10697 W Centennia...</td>\n      <td>{'Heating': 'Other', 'Days on Market': '41 Day...</td>\n      <td>https://www.trulia.com/c/nv/las-vegas/avanti-a...</td>\n      <td>11/17/2020</td>\n    </tr>\n    <tr>\n      <th>2</th>\n      <td>2</td>\n      <td>Avanti Apartments</td>\n      <td>10697 W Centennial Pkwy</td>\n      <td>1119</td>\n      <td>771</td>\n      <td>1</td>\n      <td>1</td>\n      <td>1124</td>\n      <td>Las Vegas</td>\n      <td>NV</td>\n      <td>89166</td>\n      <td>This apartment is located at 10697 W Centennia...</td>\n      <td>{'Heating': 'Other', 'Days on Market': '41 Day...</td>\n      <td>https://www.trulia.com/c/nv/las-vegas/avanti-a...</td>\n      <td>11/17/2020</td>\n    </tr>\n    <tr>\n      <th>3</th>\n      <td>3</td>\n      <td>Avanti Apartments</td>\n      <td>10697 W Centennial Pkwy</td>\n      <td>1078</td>\n      <td>849</td>\n      <td>1</td>\n      <td>1</td>\n      <td>1335</td>\n      <td>Las Vegas</td>\n      <td>NV</td>\n      <td>89166</td>\n      <td>This apartment is located at 10697 W Centennia...</td>\n      <td>{'Heating': 'Other', 'Days on Market': '41 Day...</td>\n      <td>https://www.trulia.com/c/nv/las-vegas/avanti-a...</td>\n      <td>11/17/2020</td>\n    </tr>\n    <tr>\n      <th>4</th>\n      <td>4</td>\n      <td>Avanti Apartments</td>\n      <td>10697 W Centennial Pkwy</td>\n      <td>1092</td>\n      <td>820</td>\n      <td>1</td>\n      <td>1</td>\n      <td>1347</td>\n      <td>Las Vegas</td>\n      <td>NV</td>\n      <td>89166</td>\n      <td>This apartment is located at 10697 W Centennia...</td>\n      <td>{'Heating': 'Other', 'Days on Market': '41 Day...</td>\n      <td>https://www.trulia.com/c/nv/las-vegas/avanti-a...</td>\n      <td>11/17/2020</td>\n    </tr>\n    <tr>\n      <th>5</th>\n      <td>5</td>\n      <td>Avanti Apartments</td>\n      <td>10697 W Centennial Pkwy</td>\n      <td>3030</td>\n      <td>801</td>\n      <td>1</td>\n      <td>1</td>\n      <td>1123</td>\n      <td>Las Vegas</td>\n      <td>NV</td>\n      <td>89166</td>\n      <td>This apartment is located at 10697 W Centennia...</td>\n      <td>{'Heating': 'Other', 'Days on Market': '41 Day...</td>\n      <td>https://www.trulia.com/c/nv/las-vegas/avanti-a...</td>\n      <td>11/17/2020</td>\n    </tr>\n  </tbody>\n</table>\n</div>"
     },
     "metadata": {},
     "execution_count": 249
    }
   ],
   "source": [
    "uf_data.head()"
   ]
  },
  {
   "cell_type": "code",
   "execution_count": null,
   "metadata": {},
   "outputs": [],
   "source": []
  }
 ]
}