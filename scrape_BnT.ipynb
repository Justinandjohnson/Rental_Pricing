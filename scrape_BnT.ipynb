{
 "metadata": {
  "language_info": {
   "codemirror_mode": {
    "name": "ipython",
    "version": 3
   },
   "file_extension": ".py",
   "mimetype": "text/x-python",
   "name": "python",
   "nbconvert_exporter": "python",
   "pygments_lexer": "ipython3",
   "version": "3.8.5-final"
  },
  "orig_nbformat": 2,
  "kernelspec": {
   "name": "python3",
   "display_name": "Python 3.8.5 64-bit ('dl': conda)",
   "metadata": {
    "interpreter": {
     "hash": "55fed6f79e51eda0a9c54a0c0fc683d91e072f564472f32a0f35b2737b36592d"
    }
   }
  }
 },
 "nbformat": 4,
 "nbformat_minor": 2,
 "cells": [
  {
   "source": [
    "### setting up the environment the first time\n",
    "\n",
    "Complications always arise when setting this up for the first time. So I'm going to *attempt* to standardize this somewhat for me.\n",
    "\n",
    "Current config: Windows10pro but running on WSL2\n",
    "\n",
    "## Need to install an X11 graphical monitor on windows. \n",
    "Interents recommented [VcXsrv](https://sourceforge.net/projects/vcxsrv/) [Video Instruction](https://www.youtube.com/watch?v=4SZXbl9KVsw) [full writeup](https://www.gregbrisebois.com/posts/chromedriver-in-wsl2/)\n",
    "\n",
    "Also have to update firewall permission to allow VcXsrv\n",
    "\n",
    ".\n",
    "## to install the google chrome webdiver ##\n",
    "\n",
    "Step 1 – Add Google Chrome PPA\n",
    "\n",
    "First, add (if not added already) the Google Chrome repository on your system using the following command. While using PPA to our system we also receive the latest updates whenever you check for system updates.\n",
    "\n",
    "<code> wget -q -O - https://dl-ssl.google.com/linux/linux_signing_key.pub | sudo apt-key add - </code>\n",
    "\n",
    "Next, create a PPA file for Google chrome on your system by running command:\n",
    "\n",
    "<code> sudo sh -c 'echo \"deb [arch=amd64] http://dl.google.com/linux/chrome/deb/ stable main\" >> /etc/apt/sources.list.d/google.list' </code>\n",
    "\n",
    "Step 2 – Install or Upgrade Google Chrome\n",
    "\n",
    "After adding the Google Chrome repository in our system use following commands to install the latest Google Chrome stable release. If you already have installed an older version, It will upgrade the currently installed version with the recent stable version.\n",
    "\n",
    "<code> sudo apt-get update\n",
    "sudo apt-get install google-chrome-stable </code>"
   ],
   "cell_type": "markdown",
   "metadata": {}
  },
  {
   "source": [
    "# NOTE: Cannot get selenium to run on WSL2 and a Jupyter Notebook\n",
    "\n",
    "This notebook will be used to post-scrape analysis"
   ],
   "cell_type": "markdown",
   "metadata": {}
  },
  {
   "cell_type": "code",
   "execution_count": 1,
   "metadata": {},
   "outputs": [],
   "source": [
    "# Data Basics\n",
    "import pandas as pd\n",
    "import numpy as np\n",
    "from datetime import datetime as dt\n",
    "pd.options.display.float_format = \"{:.0f}\".format\n",
    "\n"
   ]
  },
  {
   "cell_type": "code",
   "execution_count": 6,
   "metadata": {},
   "outputs": [
    {
     "output_type": "execute_result",
     "data": {
      "text/plain": [
       "       Unnamed: 0                       name         address            unit  \\\n",
       "10631       10631  Crestwood Apartment Homes  1800 Patton Ln   Unit 1800-206   \n",
       "10632       10632  Crestwood Apartment Homes  1800 Patton Ln  2 Bed 2.0 Bath   \n",
       "10633       10633  Crestwood Apartment Homes  1800 Patton Ln   Unit 1800-205   \n",
       "10634       10634                1 bed, $819   909 W 26th St  1 Bed 1.0 Bath   \n",
       "10635       10635                1 bed, $819   909 W 26th St        Unit 105   \n",
       "\n",
       "           sqft  bed bath          price    city state  zipcode  \\\n",
       "10631  620 sqft  1bd  1ba  Contact$1,250  Austin    TX    78723   \n",
       "10632  840 sqft  2bd  2ba         $1,500  Austin    TX    78723   \n",
       "10633  840 sqft  2bd  2ba  Contact$1,500  Austin    TX    78723   \n",
       "10634       NaN  1bd  1ba           $819  Austin    TX    78705   \n",
       "10635       NaN  1bd  1ba    Contact$819  Austin    TX    78705   \n",
       "\n",
       "                                             description  details  \\\n",
       "10631  One Month Free!! on a 12 month lease term.. On...      nan   \n",
       "10632  One Month Free!! on a 12 month lease term.. On...      nan   \n",
       "10633  One Month Free!! on a 12 month lease term.. On...      nan   \n",
       "10634  OH, WHAT A DEAL! STUDIO 1-1 APARTMENT, COGNAC ...      nan   \n",
       "10635  OH, WHAT A DEAL! STUDIO 1-1 APARTMENT, COGNAC ...      nan   \n",
       "\n",
       "                                                     url        date  \n",
       "10631  https://www.trulia.com/c/tx/austin/crestwood-a...  2020-11-10  \n",
       "10632  https://www.trulia.com/c/tx/austin/crestwood-a...  2020-11-10  \n",
       "10633  https://www.trulia.com/c/tx/austin/crestwood-a...  2020-11-10  \n",
       "10634  https://www.trulia.com/c/tx/austin/1-bed-829-9...  2020-11-10  \n",
       "10635  https://www.trulia.com/c/tx/austin/1-bed-829-9...  2020-11-10  "
      ],
      "text/html": "<div>\n<style scoped>\n    .dataframe tbody tr th:only-of-type {\n        vertical-align: middle;\n    }\n\n    .dataframe tbody tr th {\n        vertical-align: top;\n    }\n\n    .dataframe thead th {\n        text-align: right;\n    }\n</style>\n<table border=\"1\" class=\"dataframe\">\n  <thead>\n    <tr style=\"text-align: right;\">\n      <th></th>\n      <th>Unnamed: 0</th>\n      <th>name</th>\n      <th>address</th>\n      <th>unit</th>\n      <th>sqft</th>\n      <th>bed</th>\n      <th>bath</th>\n      <th>price</th>\n      <th>city</th>\n      <th>state</th>\n      <th>zipcode</th>\n      <th>description</th>\n      <th>details</th>\n      <th>url</th>\n      <th>date</th>\n    </tr>\n  </thead>\n  <tbody>\n    <tr>\n      <th>10631</th>\n      <td>10631</td>\n      <td>Crestwood Apartment Homes</td>\n      <td>1800 Patton Ln</td>\n      <td>Unit 1800-206</td>\n      <td>620 sqft</td>\n      <td>1bd</td>\n      <td>1ba</td>\n      <td>Contact$1,250</td>\n      <td>Austin</td>\n      <td>TX</td>\n      <td>78723</td>\n      <td>One Month Free!! on a 12 month lease term.. On...</td>\n      <td>nan</td>\n      <td>https://www.trulia.com/c/tx/austin/crestwood-a...</td>\n      <td>2020-11-10</td>\n    </tr>\n    <tr>\n      <th>10632</th>\n      <td>10632</td>\n      <td>Crestwood Apartment Homes</td>\n      <td>1800 Patton Ln</td>\n      <td>2 Bed 2.0 Bath</td>\n      <td>840 sqft</td>\n      <td>2bd</td>\n      <td>2ba</td>\n      <td>$1,500</td>\n      <td>Austin</td>\n      <td>TX</td>\n      <td>78723</td>\n      <td>One Month Free!! on a 12 month lease term.. On...</td>\n      <td>nan</td>\n      <td>https://www.trulia.com/c/tx/austin/crestwood-a...</td>\n      <td>2020-11-10</td>\n    </tr>\n    <tr>\n      <th>10633</th>\n      <td>10633</td>\n      <td>Crestwood Apartment Homes</td>\n      <td>1800 Patton Ln</td>\n      <td>Unit 1800-205</td>\n      <td>840 sqft</td>\n      <td>2bd</td>\n      <td>2ba</td>\n      <td>Contact$1,500</td>\n      <td>Austin</td>\n      <td>TX</td>\n      <td>78723</td>\n      <td>One Month Free!! on a 12 month lease term.. On...</td>\n      <td>nan</td>\n      <td>https://www.trulia.com/c/tx/austin/crestwood-a...</td>\n      <td>2020-11-10</td>\n    </tr>\n    <tr>\n      <th>10634</th>\n      <td>10634</td>\n      <td>1 bed, $819</td>\n      <td>909 W 26th St</td>\n      <td>1 Bed 1.0 Bath</td>\n      <td>NaN</td>\n      <td>1bd</td>\n      <td>1ba</td>\n      <td>$819</td>\n      <td>Austin</td>\n      <td>TX</td>\n      <td>78705</td>\n      <td>OH, WHAT A DEAL! STUDIO 1-1 APARTMENT, COGNAC ...</td>\n      <td>nan</td>\n      <td>https://www.trulia.com/c/tx/austin/1-bed-829-9...</td>\n      <td>2020-11-10</td>\n    </tr>\n    <tr>\n      <th>10635</th>\n      <td>10635</td>\n      <td>1 bed, $819</td>\n      <td>909 W 26th St</td>\n      <td>Unit 105</td>\n      <td>NaN</td>\n      <td>1bd</td>\n      <td>1ba</td>\n      <td>Contact$819</td>\n      <td>Austin</td>\n      <td>TX</td>\n      <td>78705</td>\n      <td>OH, WHAT A DEAL! STUDIO 1-1 APARTMENT, COGNAC ...</td>\n      <td>nan</td>\n      <td>https://www.trulia.com/c/tx/austin/1-bed-829-9...</td>\n      <td>2020-11-10</td>\n    </tr>\n  </tbody>\n</table>\n</div>"
     },
     "metadata": {},
     "execution_count": 6
    }
   ],
   "source": [
    "data = pd.read_csv(\"DATA/scrape_files/partial_20201109.csv\")\n",
    "data.tail()"
   ]
  },
  {
   "cell_type": "code",
   "execution_count": 8,
   "metadata": {},
   "outputs": [
    {
     "output_type": "execute_result",
     "data": {
      "text/plain": [
       "Unnamed: 0         0\n",
       "name               0\n",
       "address            0\n",
       "unit             244\n",
       "sqft              57\n",
       "bed                0\n",
       "bath               0\n",
       "price              0\n",
       "city               0\n",
       "state              0\n",
       "zipcode            0\n",
       "description        0\n",
       "details        10636\n",
       "url                0\n",
       "date               0\n",
       "dtype: int64"
      ]
     },
     "metadata": {},
     "execution_count": 8
    }
   ],
   "source": [
    "data.isna().sum()"
   ]
  },
  {
   "cell_type": "code",
   "execution_count": 4,
   "metadata": {},
   "outputs": [
    {
     "output_type": "execute_result",
     "data": {
      "text/plain": [
       "256"
      ]
     },
     "metadata": {},
     "execution_count": 4
    }
   ],
   "source": []
  },
  {
   "cell_type": "code",
   "execution_count": 21,
   "metadata": {
    "tags": []
   },
   "outputs": [
    {
     "output_type": "stream",
     "name": "stdout",
     "text": [
      "1\n2\n3\n4\n5\n6\n7\n8\n9\n"
     ]
    }
   ],
   "source": [
    "    "
   ]
  },
  {
   "cell_type": "code",
   "execution_count": 22,
   "metadata": {},
   "outputs": [],
   "source": []
  },
  {
   "cell_type": "code",
   "execution_count": 23,
   "metadata": {},
   "outputs": [],
   "source": []
  },
  {
   "cell_type": "code",
   "execution_count": 26,
   "metadata": {},
   "outputs": [
    {
     "output_type": "stream",
     "name": "stdout",
     "text": [
      "10 9\n"
     ]
    }
   ],
   "source": []
  }
 ]
}