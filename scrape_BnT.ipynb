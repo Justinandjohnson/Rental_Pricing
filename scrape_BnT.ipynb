{
 "metadata": {
  "language_info": {
   "codemirror_mode": {
    "name": "ipython",
    "version": 3
   },
   "file_extension": ".py",
   "mimetype": "text/x-python",
   "name": "python",
   "nbconvert_exporter": "python",
   "pygments_lexer": "ipython3",
   "version": "3.8.5-final"
  },
  "orig_nbformat": 2,
  "kernelspec": {
   "name": "python3",
   "display_name": "Python 3.8.5 64-bit ('dl': conda)",
   "metadata": {
    "interpreter": {
     "hash": "55fed6f79e51eda0a9c54a0c0fc683d91e072f564472f32a0f35b2737b36592d"
    }
   }
  }
 },
 "nbformat": 4,
 "nbformat_minor": 2,
 "cells": [
  {
   "source": [
    "### setting up the environment the first time\n",
    "\n",
    "Complications always arise when setting this up for the first time. So I'm going to *attempt* to standardize this somewhat for me.\n",
    "\n",
    "Current config: Windows10pro but running on WSL2\n",
    "\n",
    "## Need to install an X11 graphical monitor on windows. \n",
    "Interents recommented [VcXsrv](https://sourceforge.net/projects/vcxsrv/) [Video Instruction](https://www.youtube.com/watch?v=4SZXbl9KVsw) [full writeup](https://www.gregbrisebois.com/posts/chromedriver-in-wsl2/)\n",
    "\n",
    "Also have to update firewall permission to allow VcXsrv\n",
    "\n",
    ".\n",
    "## to install the google chrome webdiver ##\n",
    "\n",
    "Step 1 – Add Google Chrome PPA\n",
    "\n",
    "First, add (if not added already) the Google Chrome repository on your system using the following command. While using PPA to our system we also receive the latest updates whenever you check for system updates.\n",
    "\n",
    "<code> wget -q -O - https://dl-ssl.google.com/linux/linux_signing_key.pub | sudo apt-key add - </code>\n",
    "\n",
    "Next, create a PPA file for Google chrome on your system by running command:\n",
    "\n",
    "<code> sudo sh -c 'echo \"deb [arch=amd64] http://dl.google.com/linux/chrome/deb/ stable main\" >> /etc/apt/sources.list.d/google.list' </code>\n",
    "\n",
    "Step 2 – Install or Upgrade Google Chrome\n",
    "\n",
    "After adding the Google Chrome repository in our system use following commands to install the latest Google Chrome stable release. If you already have installed an older version, It will upgrade the currently installed version with the recent stable version.\n",
    "\n",
    "<code> sudo apt-get update\n",
    "sudo apt-get install google-chrome-stable </code>"
   ],
   "cell_type": "markdown",
   "metadata": {}
  },
  {
   "source": [
    "# NOTE: Cannot get selenium to run on WSL2 and a Jupyter Notebook\n",
    "\n",
    "This notebook will be used to post-scrape analysis"
   ],
   "cell_type": "markdown",
   "metadata": {}
  },
  {
   "cell_type": "code",
   "execution_count": 1,
   "metadata": {},
   "outputs": [],
   "source": [
    "# Data Basics\n",
    "import pandas as pd\n",
    "import numpy as np\n",
    "from datetime import datetime as dt\n",
    "pd.options.display.float_format = \"{:.0f}\".format\n",
    "\n"
   ]
  },
  {
   "cell_type": "code",
   "execution_count": 13,
   "metadata": {},
   "outputs": [
    {
     "output_type": "execute_result",
     "data": {
      "text/plain": [
       "       Unnamed: 0             name          address            unit  \\\n",
       "10345       10345  1315 Norwalk Ln  1315 Norwalk Ln        Unit 206   \n",
       "10346       10346      1 bed, $819    909 W 26th St  1 Bed 1.0 Bath   \n",
       "10347       10347      1 bed, $819    909 W 26th St        Unit 105   \n",
       "10348       10348    2 bed, $1,119    3205 Helms St  2 Bed 1.0 Bath   \n",
       "10349       10349    2 bed, $1,119    3205 Helms St        Unit 201   \n",
       "\n",
       "             sqft  bed bath          price    city state  zipcode  \\\n",
       "10345    447 sqft  1bd  1ba    Contact$950  Austin    TX    78703   \n",
       "10346         NaN  1bd  1ba           $819  Austin    TX    78705   \n",
       "10347         NaN  1bd  1ba    Contact$819  Austin    TX    78705   \n",
       "10348  3,596 sqft  2bd  1ba         $1,119  Austin    TX    78705   \n",
       "10349  3,596 sqft  2bd  1ba  Contact$1,119  Austin    TX    78705   \n",
       "\n",
       "                                             description  \\\n",
       "10345  FREE Rent - Move in Today! - 450 square foot o...   \n",
       "10346  OH, WHAT A DEAL! STUDIO 1-1 APARTMENT, COGNAC ...   \n",
       "10347  OH, WHAT A DEAL! STUDIO 1-1 APARTMENT, COGNAC ...   \n",
       "10348  OH, WHAT A DEAL! UT AREA 2-1 APARTMENT, VINTAG...   \n",
       "10349  OH, WHAT A DEAL! UT AREA 2-1 APARTMENT, VINTAG...   \n",
       "\n",
       "                                                 details  \\\n",
       "10345  Heating: Forced Air, Electric, Gas ,Days on Ma...   \n",
       "10346  Property Type: Apartment ,Parking: None ,Cats ...   \n",
       "10347  Property Type: Apartment ,Parking: None ,Cats ...   \n",
       "10348  Days on Market: 20 Days on Trulia ,Property Ty...   \n",
       "10349  Days on Market: 20 Days on Trulia ,Property Ty...   \n",
       "\n",
       "                                                     url        date  \n",
       "10345  https://www.trulia.com/c/tx/austin/1-bed-544-s...  2020-11-16  \n",
       "10346  https://www.trulia.com/c/tx/austin/1-bed-829-9...  2020-11-16  \n",
       "10347  https://www.trulia.com/c/tx/austin/1-bed-829-9...  2020-11-16  \n",
       "10348  https://www.trulia.com/c/tx/austin/2-bed-1-119...  2020-11-16  \n",
       "10349  https://www.trulia.com/c/tx/austin/2-bed-1-119...  2020-11-16  "
      ],
      "text/html": "<div>\n<style scoped>\n    .dataframe tbody tr th:only-of-type {\n        vertical-align: middle;\n    }\n\n    .dataframe tbody tr th {\n        vertical-align: top;\n    }\n\n    .dataframe thead th {\n        text-align: right;\n    }\n</style>\n<table border=\"1\" class=\"dataframe\">\n  <thead>\n    <tr style=\"text-align: right;\">\n      <th></th>\n      <th>Unnamed: 0</th>\n      <th>name</th>\n      <th>address</th>\n      <th>unit</th>\n      <th>sqft</th>\n      <th>bed</th>\n      <th>bath</th>\n      <th>price</th>\n      <th>city</th>\n      <th>state</th>\n      <th>zipcode</th>\n      <th>description</th>\n      <th>details</th>\n      <th>url</th>\n      <th>date</th>\n    </tr>\n  </thead>\n  <tbody>\n    <tr>\n      <th>10345</th>\n      <td>10345</td>\n      <td>1315 Norwalk Ln</td>\n      <td>1315 Norwalk Ln</td>\n      <td>Unit 206</td>\n      <td>447 sqft</td>\n      <td>1bd</td>\n      <td>1ba</td>\n      <td>Contact$950</td>\n      <td>Austin</td>\n      <td>TX</td>\n      <td>78703</td>\n      <td>FREE Rent - Move in Today! - 450 square foot o...</td>\n      <td>Heating: Forced Air, Electric, Gas ,Days on Ma...</td>\n      <td>https://www.trulia.com/c/tx/austin/1-bed-544-s...</td>\n      <td>2020-11-16</td>\n    </tr>\n    <tr>\n      <th>10346</th>\n      <td>10346</td>\n      <td>1 bed, $819</td>\n      <td>909 W 26th St</td>\n      <td>1 Bed 1.0 Bath</td>\n      <td>NaN</td>\n      <td>1bd</td>\n      <td>1ba</td>\n      <td>$819</td>\n      <td>Austin</td>\n      <td>TX</td>\n      <td>78705</td>\n      <td>OH, WHAT A DEAL! STUDIO 1-1 APARTMENT, COGNAC ...</td>\n      <td>Property Type: Apartment ,Parking: None ,Cats ...</td>\n      <td>https://www.trulia.com/c/tx/austin/1-bed-829-9...</td>\n      <td>2020-11-16</td>\n    </tr>\n    <tr>\n      <th>10347</th>\n      <td>10347</td>\n      <td>1 bed, $819</td>\n      <td>909 W 26th St</td>\n      <td>Unit 105</td>\n      <td>NaN</td>\n      <td>1bd</td>\n      <td>1ba</td>\n      <td>Contact$819</td>\n      <td>Austin</td>\n      <td>TX</td>\n      <td>78705</td>\n      <td>OH, WHAT A DEAL! STUDIO 1-1 APARTMENT, COGNAC ...</td>\n      <td>Property Type: Apartment ,Parking: None ,Cats ...</td>\n      <td>https://www.trulia.com/c/tx/austin/1-bed-829-9...</td>\n      <td>2020-11-16</td>\n    </tr>\n    <tr>\n      <th>10348</th>\n      <td>10348</td>\n      <td>2 bed, $1,119</td>\n      <td>3205 Helms St</td>\n      <td>2 Bed 1.0 Bath</td>\n      <td>3,596 sqft</td>\n      <td>2bd</td>\n      <td>1ba</td>\n      <td>$1,119</td>\n      <td>Austin</td>\n      <td>TX</td>\n      <td>78705</td>\n      <td>OH, WHAT A DEAL! UT AREA 2-1 APARTMENT, VINTAG...</td>\n      <td>Days on Market: 20 Days on Trulia ,Property Ty...</td>\n      <td>https://www.trulia.com/c/tx/austin/2-bed-1-119...</td>\n      <td>2020-11-16</td>\n    </tr>\n    <tr>\n      <th>10349</th>\n      <td>10349</td>\n      <td>2 bed, $1,119</td>\n      <td>3205 Helms St</td>\n      <td>Unit 201</td>\n      <td>3,596 sqft</td>\n      <td>2bd</td>\n      <td>1ba</td>\n      <td>Contact$1,119</td>\n      <td>Austin</td>\n      <td>TX</td>\n      <td>78705</td>\n      <td>OH, WHAT A DEAL! UT AREA 2-1 APARTMENT, VINTAG...</td>\n      <td>Days on Market: 20 Days on Trulia ,Property Ty...</td>\n      <td>https://www.trulia.com/c/tx/austin/2-bed-1-119...</td>\n      <td>2020-11-16</td>\n    </tr>\n  </tbody>\n</table>\n</div>"
     },
     "metadata": {},
     "execution_count": 13
    }
   ],
   "source": [
    "data = pd.read_csv(\"DATA/scrape_files/partial_20201116.csv\")\n",
    "data.tail()"
   ]
  },
  {
   "cell_type": "code",
   "execution_count": 12,
   "metadata": {},
   "outputs": [
    {
     "output_type": "execute_result",
     "data": {
      "text/plain": [
       "Unnamed: 0       0\n",
       "name             0\n",
       "address          0\n",
       "unit           228\n",
       "sqft            59\n",
       "bed              0\n",
       "bath             0\n",
       "price            0\n",
       "city             0\n",
       "state            0\n",
       "zipcode          0\n",
       "description      0\n",
       "details          0\n",
       "url              0\n",
       "date             0\n",
       "dtype: int64"
      ]
     },
     "metadata": {},
     "execution_count": 12
    }
   ],
   "source": [
    "data.isna().sum()"
   ]
  },
  {
   "cell_type": "code",
   "execution_count": 4,
   "metadata": {},
   "outputs": [
    {
     "output_type": "execute_result",
     "data": {
      "text/plain": [
       "256"
      ]
     },
     "metadata": {},
     "execution_count": 4
    }
   ],
   "source": []
  },
  {
   "cell_type": "code",
   "execution_count": 21,
   "metadata": {
    "tags": []
   },
   "outputs": [
    {
     "output_type": "stream",
     "name": "stdout",
     "text": [
      "1\n2\n3\n4\n5\n6\n7\n8\n9\n"
     ]
    }
   ],
   "source": [
    "    "
   ]
  },
  {
   "cell_type": "code",
   "execution_count": 22,
   "metadata": {},
   "outputs": [],
   "source": []
  },
  {
   "cell_type": "code",
   "execution_count": 23,
   "metadata": {},
   "outputs": [],
   "source": []
  },
  {
   "cell_type": "code",
   "execution_count": 18,
   "metadata": {},
   "outputs": [],
   "source": [
    "cities = [\n",
    "    [\"Chicago\", \"IL\"],\n",
    "    [\"Saint_Louis\", \"MO\"],\n",
    "    [\"New_York\", \"NY\"],\n",
    "    [\"Las_Vegas\", \"NV\"],\n",
    "    [\"Dallas\", \"TX\"],\n",
    "    [\"Portland\", \"OR\"],\n",
    "    [\"Seattle\", \"WA\"],\n",
    "    [\"Minneapolis\", \"MN\"],\n",
    "    [\"Orlando\", \"FL\"],\n",
    "    [\"San_Francisco\",\"CA\"]\n",
    "]"
   ]
  },
  {
   "cell_type": "code",
   "execution_count": 17,
   "metadata": {},
   "outputs": [
    {
     "output_type": "stream",
     "name": "stdout",
     "text": [
      "1 Chicago\n2 Saint_Louis\n3 New_York\n4 Las_Vegas\n5 Dallas\n6 Portland\n7 Seattle\n8 Minneapolis\n9 Orlando\n"
     ]
    }
   ],
   "source": [
    "for i, city in enumerate(cities, start=1):\n",
    "    print(i, city[0])"
   ]
  },
  {
   "cell_type": "code",
   "execution_count": 20,
   "metadata": {},
   "outputs": [
    {
     "output_type": "execute_result",
     "data": {
      "text/plain": [
       "'20201116'"
      ]
     },
     "metadata": {},
     "execution_count": 20
    }
   ],
   "source": [
    "dt.today().strftime('%Y%m%d')"
   ]
  },
  {
   "source": [
    "\"\"\" Some regex notes\n",
    "Everthing before a comma\n",
    "<code> ^(.+?), </code>\n",
    "\n",
    "Assuming the date is always in the format: [MM]-[DD]-[YYYY].\n",
    "([0-9]{2}\\-[0-9]{2}\\-[0-9]{4})\n",
    "\n",
    "How I do timestamps in filenames\n",
    "([0-9]{2}[0-9]{2}[0-9]{4})\n",
    "\n",
    "\"\"\""
   ],
   "cell_type": "markdown",
   "metadata": {}
  },
  {
   "cell_type": "code",
   "execution_count": 28,
   "metadata": {},
   "outputs": [
    {
     "output_type": "stream",
     "name": "stdout",
     "text": [
      "0\nwaiting...\n1\nwaiting...\n2\nwaiting...\n3\nwaiting...\n"
     ]
    }
   ],
   "source": [
    "import os, re \n",
    "\n",
    "today = int(dt.today().strftime('%Y%m%d'))\n",
    "\n",
    "for i in range(7):\n",
    "    if os.path.isfile(f\"DATA/scrape_files/partial_{today - i}.csv\"):\n",
    "        data = pd.read_csv(f\"DATA/scrape_files/partial_{today - i}.csv\")\n",
    "        break # fyi, only breaks one-level out of for-loop\n",
    "    elif i < 7:\n",
    "        print(\"waiting...\")\n",
    "    else:\n",
    "        print(\"No recent file found, generating new list\")\n",
    "        "
   ]
  },
  {
   "cell_type": "code",
   "execution_count": 42,
   "metadata": {},
   "outputs": [
    {
     "output_type": "stream",
     "name": "stderr",
     "text": [
      "100%|██████████| 12/12 [00:00<00:00, 324.59city/s]Saint_Louis MO\n",
      "Blah\n",
      "units file found\n",
      "Chicago IL\n",
      "Blah\n",
      "units file found\n",
      "New_York NY\n",
      "Blah\n",
      "units file not found\n",
      "Las_Vegas NV\n",
      "nah\n",
      "nah\n",
      "nah\n",
      "nah\n",
      "nah\n",
      "nah\n",
      "No recent file found, generating new list\n",
      "units file not found\n",
      "Dallas TX\n",
      "nah\n",
      "nah\n",
      "nah\n",
      "nah\n",
      "nah\n",
      "nah\n",
      "No recent file found, generating new list\n",
      "units file not found\n",
      "Portland OR\n",
      "nah\n",
      "nah\n",
      "nah\n",
      "nah\n",
      "nah\n",
      "nah\n",
      "No recent file found, generating new list\n",
      "units file not found\n",
      "Seattle WA\n",
      "nah\n",
      "nah\n",
      "nah\n",
      "nah\n",
      "nah\n",
      "nah\n",
      "No recent file found, generating new list\n",
      "units file not found\n",
      "Minneapolis MN\n",
      "nah\n",
      "nah\n",
      "nah\n",
      "nah\n",
      "nah\n",
      "nah\n",
      "No recent file found, generating new list\n",
      "units file not found\n",
      "Orlando FL\n",
      "nah\n",
      "nah\n",
      "nah\n",
      "nah\n",
      "nah\n",
      "nah\n",
      "No recent file found, generating new list\n",
      "units file not found\n",
      "San_Francisco CA\n",
      "nah\n",
      "nah\n",
      "nah\n",
      "nah\n",
      "nah\n",
      "nah\n",
      "No recent file found, generating new list\n",
      "units file not found\n",
      "Austin TX\n",
      "nah\n",
      "nah\n",
      "nah\n",
      "nah\n",
      "nah\n",
      "nah\n",
      "No recent file found, generating new list\n",
      "units file not found\n",
      "Ann_Arbor MI\n",
      "nah\n",
      "nah\n",
      "nah\n",
      "nah\n",
      "nah\n",
      "nah\n",
      "No recent file found, generating new list\n",
      "units file not found\n",
      "\n"
     ]
    }
   ],
   "source": [
    "from tqdm import tqdm\n",
    "\n",
    "base_url = \"https://www.trulia.com\"\n",
    "\n",
    "cities = [\n",
    "    \n",
    "    [\"Saint_Louis\", \"MO\"],\n",
    "    [\"Chicago\", \"IL\"],\n",
    "    [\"New_York\", \"NY\"],\n",
    "    [\"Las_Vegas\", \"NV\"],\n",
    "    [\"Dallas\", \"TX\"],\n",
    "    [\"Portland\", \"OR\"],\n",
    "    [\"Seattle\", \"WA\"],\n",
    "    [\"Minneapolis\", \"MN\"],\n",
    "    [\"Orlando\", \"FL\"],\n",
    "    [\"San_Francisco\", \"CA\"],\n",
    "    [\"Austin\", \"TX\"],\n",
    "    [\"Ann_Arbor\", \"MI\"],\n",
    "]\n",
    "\n",
    "for i, city_state in enumerate(tqdm(cities, unit=\"city\"), start=1):\n",
    "    today = int(dt.today().strftime(\"%Y%m%d\"))\n",
    "    city, state = city_state\n",
    "    print(city, state)\n",
    "    city_url = f\"/for_rent/{city},{state}/\"\n",
    "    residence_urls = f\"DATA/urls/apt_page_listings_{city}_{state}_{today}.csv\"\n",
    "    unit_info = f\"DATA/scrape_files/apt_unit_listings_{city}_{state}_{today}.csv\"\n",
    "\n",
    "    # Generate list of URLs to walk through, skip if saved list is recent\n",
    "    for i in range(7):\n",
    "        if os.path.isfile(\n",
    "            f\"DATA/urls/apt_page_listings_{city}_{state}_{today - i}.csv\"\n",
    "        ):\n",
    "            url_list = pd.read_csv(\n",
    "                f\"DATA/urls/apt_page_listings_{city}_{state}_{today - i}.csv\"\n",
    "            )\n",
    "            print(\"Blah\")\n",
    "            break  # only breaks one-level out of for-loop\n",
    "        elif i < 6:\n",
    "            print(\"nah\")\n",
    "            continue\n",
    "        else:\n",
    "            print(\"No recent file found, generating new list\")\n",
    "            # ulist = bot.get_url_list(base_url, city_url)\n",
    "            # to_save = pd.DataFrame(ulist)\n",
    "            # to_save.to_csv(residence_urls)\n",
    "            # url_list = pd.read_csv(residence_urls)\n",
    "\n",
    "\n",
    "    # Find all the units available for a listing\n",
    "    if os.path.isfile(unit_info):\n",
    "        print(\"units file found\")\n",
    "    else:\n",
    "        print(\"units file not found\")\n",
    "        # apts_data = bot.get_all_apartments(base_url, url_list, city, state)\n",
    "        # to_save = pd.DataFrame(apts_data)\n",
    "        # to_save.to_csv(unit_info)"
   ]
  },
  {
   "cell_type": "code",
   "execution_count": null,
   "metadata": {},
   "outputs": [],
   "source": [
    "home_deets = soup.find_all(\"div\", {\"data-testid\": \"home-details-summary-container\"})\n",
    "\n",
    "price = home_deets[0].find_all(\"div\", \"Text__TextBase-sc-1i9uasc-0-div Text__TextContainerBase-sc-1i9uasc-1 qAaUO\")[0].text\n",
    "\n",
    "name,\n",
    "***address,\n",
    "unit,\n",
    "sqft,\n",
    "bed,\n",
    "bath,\n",
    "price,\n",
    "city,\n",
    "state,\n",
    "zipcode,\n",
    "description,\n",
    "details,\n",
    "\"url\": apartment_url,\n",
    "\"date\": date,\n",
    "\n",
    "# good to go\n",
    "price = home_deets[0].find_all(\"div\", lambda L: L and L.startswith(\"Text__TextBase\"))[0].text\n",
    "bed = home_deets[0].find_all(\"div\", lambda L: L and L.startswith(\"MediaBlock__MediaContent\"))[0].text\n",
    "bath = home_deets[0].find_all(\"div\", lambda L: L and L.startswith(\"MediaBlock__MediaContent\"))[1].text\n",
    "sqft = home_deets[0].find_all(\"div\", lambda L: L and L.startswith(\"MediaBlock__MediaContent\"))[2].text\n",
    "name = home_deets[0].find_all(\"span\", {\"data-testid\": \"home-details-summary-headline\"})[0].text\n",
    "city_state_zip = home_deets[0].find_all(\"span\", {\"data-testid\": \"home-details-summary-city-state\"})[0].text\n",
    "description = soup.find_all(\"div\", {\"data-testid\": \"home-description-text-description-text\"})[0].text\n",
    "details = [detail.text for detail in soup.find_all(\"li\", {\"class\": lambda L: L and L.startswith(\"FeatureList__FeatureListItem\")})]\n",
    "unit = \"home\"\n",
    "date = str(dt.now().date())\n",
    "apartment_url = base_url + current_url\n"
   ]
  },
  {
   "cell_type": "code",
   "execution_count": 47,
   "metadata": {},
   "outputs": [
    {
     "output_type": "stream",
     "name": "stdout",
     "text": [
      "nah\n"
     ]
    }
   ],
   "source": [
    "blah = []\n",
    "\n",
    "if blah != []:\n",
    "    print(\"yo\")\n",
    "else:\n",
    "    print(\"nah\")"
   ]
  }
 ]
}